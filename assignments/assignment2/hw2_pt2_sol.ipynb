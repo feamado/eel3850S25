{
 "cells": [
  {
   "cell_type": "markdown",
   "id": "04945618",
   "metadata": {},
   "source": [
    "# Homework 2\n",
    "\n",
    "(Total: 50pt)\n",
    "\n",
    "This is an individual assignment.\n",
    "Related knowledge:\n",
    "- Conditional probability\n",
    "- Chain rule\n",
    "- Total probability theorem\n",
    "- Bayes theorem"
   ]
  },
  {
   "cell_type": "code",
   "execution_count": 1,
   "id": "27037fdf",
   "metadata": {},
   "outputs": [],
   "source": [
    "import random\n",
    "import numpy as np\n",
    "import math"
   ]
  },
  {
   "cell_type": "markdown",
   "id": "53d3399f",
   "metadata": {},
   "source": [
    "## Problem 1\n",
    "\n",
    "(20 pt)\n",
    "\n",
    "Implement a function to evaluate the relative frequency of a batch being accepted if it contains $k$ defectives.\n",
    "\n",
    "A batch of one hundred items is inspected by testing five randomly selected items.\n",
    "If one of the five is defective, the batch is rejected. What is the probability that the batch is accepted if it contains four defectives?"
   ]
  },
  {
   "cell_type": "code",
   "execution_count": 2,
   "id": "5ed35207",
   "metadata": {},
   "outputs": [
    {
     "name": "stdout",
     "output_type": "stream",
     "text": [
      "81.262 %\n",
      "We got 18738 rejects!\n"
     ]
    }
   ],
   "source": [
    "def rejectk(k=4, batchnum=100): #k= the number of defectives in the batch\n",
    "    num_sims = 100000\n",
    "    \n",
    "    # Create a list of items using booleans, 0 for non-defective, 1 for defective, that represets the batch.\n",
    "    boolean_list = [0] * batchnum\n",
    "    for i in range(0,k):\n",
    "        boolean_list[i] = 1\n",
    "\n",
    "    rejected_batches = 0\n",
    "    \n",
    "    for sim in range(num_sims):\n",
    "        # implement sampling from the batch.\n",
    "        parts = random.sample(boolean_list, 5)\n",
    "        \n",
    "        # determine if it shall be rejected.\n",
    "        if np.sum(parts) != 0:\n",
    "            rejected_batches += 1\n",
    "    \n",
    "    print(100*(1-rejected_batches/num_sims), '%')\n",
    "    print(f\"We got {rejected_batches} rejects!\")\n",
    "    #calculate and print out the relative frequency.\n",
    "rejectk()"
   ]
  },
  {
   "cell_type": "markdown",
   "id": "e27bbed9",
   "metadata": {},
   "source": [
    "## Problem 2\n",
    "\n",
    "(20 pt)\n",
    "\n",
    "**Suppose you have an assortment of coins: 61 coins each with probability of flipping heads $p$, in the interval $[0.2,0.8]$, defined below:**"
   ]
  },
  {
   "cell_type": "code",
   "execution_count": 3,
   "id": "6db1aa34",
   "metadata": {},
   "outputs": [
    {
     "data": {
      "text/plain": [
       "array([0.2 , 0.21, 0.22, 0.23, 0.24, 0.25, 0.26, 0.27, 0.28, 0.29, 0.3 ,\n",
       "       0.31, 0.32, 0.33, 0.34, 0.35, 0.36, 0.37, 0.38, 0.39, 0.4 , 0.41,\n",
       "       0.42, 0.43, 0.44, 0.45, 0.46, 0.47, 0.48, 0.49, 0.5 , 0.51, 0.52,\n",
       "       0.53, 0.54, 0.55, 0.56, 0.57, 0.58, 0.59, 0.6 , 0.61, 0.62, 0.63,\n",
       "       0.64, 0.65, 0.66, 0.67, 0.68, 0.69, 0.7 , 0.71, 0.72, 0.73, 0.74,\n",
       "       0.75, 0.76, 0.77, 0.78, 0.79, 0.8 ])"
      ]
     },
     "execution_count": 3,
     "metadata": {},
     "output_type": "execute_result"
    }
   ],
   "source": [
    "import numpy as np\n",
    "allcoins = np.linspace(0.2,0.8,61)  # set of coins\n",
    "\n",
    "allcoins"
   ]
  },
  {
   "cell_type": "markdown",
   "id": "482f9483",
   "metadata": {},
   "source": [
    "Consider the experiment where you pick a coin at random and flip it 6 times, and the event \"all tails\" occurs. \n",
    "\n",
    " **What is the probability that the coin has a probability of tail smaller than 0.5?**\n",
    " \n",
    "Implement simulation to evaluate the relative frequency\n"
   ]
  },
  {
   "cell_type": "code",
   "execution_count": 4,
   "id": "fc8f3a5d",
   "metadata": {},
   "outputs": [
    {
     "name": "stdout",
     "output_type": "stream",
     "text": [
      "0.037251495850221965\n"
     ]
    }
   ],
   "source": [
    "num_sims = 100_000\n",
    "\n",
    "all_tails = 0\n",
    "low_tail_chance = 0\n",
    "\n",
    "for i in range(num_sims):\n",
    "    coin = random.choice(allcoins)\n",
    "    results = random.choices([1,0], weights=[coin,1-coin], k=6)\n",
    "    if np.sum(results) == 0:\n",
    "        all_tails += 1\n",
    "        if (1-coin < 0.5):\n",
    "            low_tail_chance += 1\n",
    "            \n",
    "print(low_tail_chance/all_tails)"
   ]
  },
  {
   "cell_type": "markdown",
   "id": "518ff8fb",
   "metadata": {},
   "source": [
    "## Problem 3\n",
    "(10 pt)\n",
    "\n",
    "Consider the experiment where you select one card at a time, at random and without replacement, from a playing 52-card deck (13 cards per suit).\n",
    "\n",
    " Let $S_i$ be the event that a spade is the $i$th draw from the deck.\n",
    "\n",
    "Implement simulation to estimate the relative frequency of $P(S_2)$. ( **Hint** : use `random.shuffle` to simulate)\n"
   ]
  },
  {
   "cell_type": "code",
   "execution_count": 5,
   "id": "401c1edc",
   "metadata": {},
   "outputs": [
    {
     "name": "stdout",
     "output_type": "stream",
     "text": [
      "Estimated P(S2): 0.2483\n"
     ]
    }
   ],
   "source": [
    "num_sims = 100_000\n",
    "count_S2 = 0  # Count of cases where the second card is a spade\n",
    "\n",
    "for sim in range(num_sims):\n",
    "    # Create a deck of 52 cards: 13 spades (1) and 39 non-spades (0)\n",
    "    deck = [1] * 13 + [0] * 39\n",
    "\n",
    "    # Shuffle the deck\n",
    "    random.shuffle(deck)\n",
    "\n",
    "    # Check if the second card is a spade (1)\n",
    "    if deck[1] == 1:\n",
    "        count_S2 += 1\n",
    "\n",
    "# Calculate the relative frequency of P(S2)\n",
    "print(f\"Estimated P(S2): {count_S2 / num_sims:.4f}\")"
   ]
  },
  {
   "cell_type": "markdown",
   "id": "5fa747cd",
   "metadata": {},
   "source": [
    "# Submit Your Solutions\n",
    "\n",
    "Confirm that you've successfully completed the assignment.\n",
    "submit both the notebook files and a PDF printout"
   ]
  }
 ],
 "metadata": {
  "kernelspec": {
   "display_name": "Python 3 (ipykernel)",
   "language": "python",
   "name": "python3"
  },
  "language_info": {
   "codemirror_mode": {
    "name": "ipython",
    "version": 3
   },
   "file_extension": ".py",
   "mimetype": "text/x-python",
   "name": "python",
   "nbconvert_exporter": "python",
   "pygments_lexer": "ipython3",
   "version": "3.9.13"
  }
 },
 "nbformat": 4,
 "nbformat_minor": 5
}
