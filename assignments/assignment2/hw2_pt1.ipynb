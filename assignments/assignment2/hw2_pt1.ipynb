{
 "cells": [
  {
   "cell_type": "markdown",
   "id": "80cfbabd",
   "metadata": {},
   "source": [
    "# Homework 2\n",
    "\n",
    "(Total: 50pt)\n",
    "\n",
    "This is an individual assignment.\n",
    "Related knowledge:\n",
    "- Conditional probability\n",
    "- Bayes theorem"
   ]
  },
  {
   "cell_type": "markdown",
   "id": "b0e820fd",
   "metadata": {},
   "source": [
    "## Description\n",
    "\n",
    "Provide analytical solutions to the problems below and upload your answers as a PDF. (There is no need to type your answers -- just scan your handwritten solutions with an app like [CamScanner](https://www.camscanner.com/user/download) or [Scannable](https://apps.apple.com/us/app/evernote-scannable/id883338188).)"
   ]
  },
  {
   "cell_type": "markdown",
   "id": "d07edcf5",
   "metadata": {},
   "source": [
    "**Round your answers to four decimal places.**"
   ]
  },
  {
   "cell_type": "code",
   "execution_count": null,
   "id": "285a49b5",
   "metadata": {},
   "outputs": [],
   "source": []
  },
  {
   "cell_type": "markdown",
   "id": "91d99a7e",
   "metadata": {},
   "source": [
    "## Problem 1\n",
    "\n",
    "(10 pt)\n",
    "\n",
    "A batch of one hundred items is inspected by testing five randomly selected items.\n",
    "If one of the five is defective, the batch is rejected. What is the probability that the batch is accepted if it contains four defectives?"
   ]
  },
  {
   "cell_type": "markdown",
   "id": "00414c67",
   "metadata": {},
   "source": [
    "## Problem 2\n",
    "(10 pt)\n",
    "\n",
    "A hunter has two hunting dogs. One day, on the trail of some animal, the hunter comes to a place where the road diverges into two paths. He knows that each dog, independent of the other, will choose the **wrong** path with probability $p$. The hunter decides to let each dog choose a path, and if they agree, take that one, and if they disagree, to randomly pick a path. Is his strategy better than just letting one of the two dogs decide on a path?\n",
    "\n",
    "Hint: consider the following events: $C_i$: The dog $i$ makes a correct choice. $C$: The hunter makes a correct choice. Compute the probability of the hunter making a correct choice given four possible combinations of dog1 and dog2's choices.\n"
   ]
  },
  {
   "cell_type": "markdown",
   "id": "53b9918e",
   "metadata": {},
   "source": [
    "## Problem 3\n",
    "\n",
    "(20 pt)\n",
    "\n",
    "A computer manufacturer uses chips from three sources.  Chips from sources A, B, and C are defective with probabilities 0.001, 0.004, and 0.01 respectively. Let $P_A$, $P_B$, and $P_C$ denote the probabilities that a chip is from source $A$, $B$, or $C$, respectively. \n",
    "\n",
    "1. If the computer manufacturer uses an equal number of chips from each source, what is the probability that a randomly chosen chip is defective? (I.e., if you do not know what manufacturer it came from.) (5pt)\n",
    "\n",
    "2. If the computer manufacturer uses an equal number of chips from each source and a randomly chosen chip is found to be defective, find the (conditional) probability that it came from each source. (5pt)\n",
    "\n",
    "3. If the computer manufacturer gets 50\\% of its chips from source $A$, 40\\% of its chips from source $B$, and 10\\% of its chips from source $C$, what is the probability that a randomly chosen chip is defective? (5pt)\n",
    "\n",
    "4. If the computer manufacturer gets 50\\% of its chips from source $A$, 40\\% of its chips from source $B$, and 10\\% of its chips from source $C$, and a randomly chosen chip is found to be defective, find the (conditional) probability that it came from each source. (5pt)\n",
    "\n",
    "\n"
   ]
  },
  {
   "cell_type": "markdown",
   "id": "0f515712",
   "metadata": {},
   "source": [
    "## Problem 4\n",
    "\n",
    "(10 pt)\n",
    "\n",
    "Consider the experiment where you select one card at a time, at random and without replacement, from a playing 52-card deck (13 cards per suit).\n",
    "\n",
    "Let $S_i$ be the event that a spade is the $i$th draw from the deck.\n",
    " \n",
    "\n",
    "1. Compute $P(S_1)$. (5 pt)\n",
    "\n",
    "2. Compute $P(S_2)$ (hint. conditioning on the first card drawn from the deck. and use the law of total probability) (5 pt)\n",
    "\n",
    "Hint: find a set of events that partitions the sample space, be clear in naming these events. For instance, $\\{H,S, D,C\\}$ can be the set of events that indicate hearts, spade, diamond, club. $\\{1,2,\\ldots,13\\}$ can be ace, two, ..., king. $\\{B,R\\}$ can be the set of events that indicate Red or Black.\n"
   ]
  },
  {
   "cell_type": "markdown",
   "id": "201d44f6",
   "metadata": {},
   "source": [
    "# Submit Your Solutions\n",
    "\n",
    "Confirm that you've successfully completed the assignment.\n",
    "\n",
    "Scan your handwritten solutions and create a single PDF file with your solutions. "
   ]
  },
  {
   "cell_type": "markdown",
   "id": "3ce591db-6c1c-4fc6-a02d-589fbd253093",
   "metadata": {},
   "source": [
    "## Ungraded problems"
   ]
  },
  {
   "cell_type": "markdown",
   "id": "29868765-73fe-4d70-8bd2-2208bccdb433",
   "metadata": {},
   "source": [
    "1. \n",
    "A card is drawn at random from a standard 52-card deck.\n",
    "\n",
    "- Event A: The card is NOT a face card (Jack, Queen, or King).\n",
    "- Event B: The card is a spade.\n",
    "\n",
    "Answer the following questions:\n",
    "- What is the probability of A?\n",
    "- What is the probability of B?\n",
    "-  What is the probability of A given B? \n",
    "- What is the probability of A and B?\n",
    "- What is the probability of B given A?"
   ]
  },
  {
   "cell_type": "markdown",
   "id": "c9e43b69-5628-4a52-bade-40ff57c785a7",
   "metadata": {},
   "source": [
    "2. \n",
    "Three four-sided dice are rolled.\n",
    "- Event  A : The first die shows a 4.\n",
    "- Event  B : The sum of all three dice is greater than 6.\n",
    "- Event  C : At least one die shows an odd number.\n",
    "\n",
    "Questions:\n",
    "\n",
    "- What is  $P(A \\cap B | C)$ , the probability that the first die is a 6 and the sum is greater than 10, given that at least one die shows an odd number?"
   ]
  }
 ],
 "metadata": {
  "kernelspec": {
   "display_name": "Python 3 (ipykernel)",
   "language": "python",
   "name": "python3"
  },
  "language_info": {
   "codemirror_mode": {
    "name": "ipython",
    "version": 3
   },
   "file_extension": ".py",
   "mimetype": "text/x-python",
   "name": "python",
   "nbconvert_exporter": "python",
   "pygments_lexer": "ipython3",
   "version": "3.9.13"
  }
 },
 "nbformat": 4,
 "nbformat_minor": 5
}
