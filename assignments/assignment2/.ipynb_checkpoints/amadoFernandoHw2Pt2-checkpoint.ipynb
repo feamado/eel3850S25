{
 "cells": [
  {
   "cell_type": "markdown",
   "id": "80876bf1",
   "metadata": {},
   "source": [
    "# Homework 2 FERNANDO AMADO-PUPO\n",
    "\n",
    "(Total: 50pt)\n",
    "\n",
    "This is an individual assignment.\n",
    "Related knowledge:\n",
    "- Conditional probability\n",
    "- Chain rule\n",
    "- Total probability theorem\n",
    "- Bayes theorem"
   ]
  },
  {
   "cell_type": "code",
   "execution_count": 2,
   "id": "9a9cbc9f",
   "metadata": {},
   "outputs": [],
   "source": [
    "import random\n",
    "import numpy as np\n",
    "import math"
   ]
  },
  {
   "cell_type": "markdown",
   "id": "e2f2d97f",
   "metadata": {},
   "source": [
    "## Problem 1\n",
    "\n",
    "(20 pt)\n",
    "\n",
    "Implement a function to evaluate the relative frequency of a batch being accepted if it contains $k$ defectives.\n",
    "\n",
    "A batch of one hundred items is inspected by testing five randomly selected items.\n",
    "If one of the five is defective, the batch is rejected. What is the probability that the batch is accepted if it contains four defectives?"
   ]
  },
  {
   "cell_type": "code",
   "execution_count": 11,
   "id": "b8fc0036",
   "metadata": {},
   "outputs": [
    {
     "name": "stdout",
     "output_type": "stream",
     "text": [
      "The probability a batch is accepted if it contains 4 defectives is 0.812\n"
     ]
    }
   ],
   "source": [
    "def batch_acceptance_probability(numBatch,numSelect,numDefective,numTrials):\n",
    "    #1 = defective,  0 = normal\n",
    "    batch = [True]*(numDefective) + [False]*(numBatch - numDefective)\n",
    "    #np.random.choice can be used to simulate choosing from the batch with replacement\n",
    "    selection = np.array([np.random.choice(batch,size = 5,replace = False) for _ in range(int(numTrials))])\n",
    "    #presence of defective\n",
    "    #np.any axis = 1 checks down row of presence of any True\n",
    "    hasDefective = np.any(selection,axis = 1)\n",
    "    #now we have an array of booleans for the results of each trial\n",
    "    Pfailure = np.sum(hasDefective)/numTrials\n",
    "    # prob batch is accepted is 1-Pfailure\n",
    "    return 1-Pfailure\n",
    "\n",
    "print(f\"The probability a batch is accepted if it contains 4 defectives is {batch_acceptance_probability(100,5,4,1e5):.3f}\")\n",
    "    \n",
    "    "
   ]
  },
  {
   "cell_type": "markdown",
   "id": "94a15ac8",
   "metadata": {},
   "source": [
    "## Problem 2\n",
    "\n",
    "(20 pt)\n",
    "\n",
    "**Suppose you have an assortment of coins: 61 coins each with probability of flipping heads $p$, in the interval $[0.2,0.8]$, defined below:**"
   ]
  },
  {
   "cell_type": "code",
   "execution_count": 83,
   "id": "b6e27064",
   "metadata": {},
   "outputs": [
    {
     "data": {
      "text/plain": [
       "array([0.2 , 0.21, 0.22, 0.23, 0.24, 0.25, 0.26, 0.27, 0.28, 0.29, 0.3 ,\n",
       "       0.31, 0.32, 0.33, 0.34, 0.35, 0.36, 0.37, 0.38, 0.39, 0.4 , 0.41,\n",
       "       0.42, 0.43, 0.44, 0.45, 0.46, 0.47, 0.48, 0.49, 0.5 , 0.51, 0.52,\n",
       "       0.53, 0.54, 0.55, 0.56, 0.57, 0.58, 0.59, 0.6 , 0.61, 0.62, 0.63,\n",
       "       0.64, 0.65, 0.66, 0.67, 0.68, 0.69, 0.7 , 0.71, 0.72, 0.73, 0.74,\n",
       "       0.75, 0.76, 0.77, 0.78, 0.79, 0.8 ])"
      ]
     },
     "execution_count": 83,
     "metadata": {},
     "output_type": "execute_result"
    }
   ],
   "source": [
    "import numpy as np\n",
    "import random\n",
    "\n",
    "\n",
    "allcoins = np.linspace(0.2,0.8,61)  # set of coins\n",
    "\n",
    "\n",
    "allcoins"
   ]
  },
  {
   "cell_type": "markdown",
   "id": "fd08446c",
   "metadata": {},
   "source": [
    "Consider the experiment where you pick a coin at random and flip it 6 times, and the event \"all tails\" occurs. \n",
    "\n",
    " **What is the probability that the coin has a probability of tail smaller than 0.5?**\n",
    " \n",
    "Implement simulation to evaluate the relative frequency\n"
   ]
  },
  {
   "cell_type": "code",
   "execution_count": 84,
   "id": "d24903c3",
   "metadata": {},
   "outputs": [
    {
     "name": "stdout",
     "output_type": "stream",
     "text": [
      "The probability that a coin is biased towards heads, given that it was randomly chosen, flipped 6 times and all tails occured is:\n",
      "0.0344\n"
     ]
    }
   ],
   "source": [
    "def flipCoin(pHeads):\n",
    "    #True is heads #False is tails\n",
    "    return pHeads>np.random.random()\n",
    "\n",
    "def typeOfCoinExperiment(coinSpace,flips,event,numTrials):\n",
    "    #given we match this condition\n",
    "    eventSuccess = 0;\n",
    "    #times that it is a biased coin given a certain condition\n",
    "    biasSuccess = 0;\n",
    "    for _ in range(int(numTrials)):\n",
    "        #pull a random coin with replacement (otherwise we would only have 61 trials)\n",
    "        selectCoin = np.random.choice(coinSpace)\n",
    "        outcome = np.array([flipCoin(selectCoin) for _ in range(int(flips))])\n",
    "        \n",
    "        # are finding probability of a subset of outcomes from this given condition\n",
    "        #if no Trues are found / no Heads\n",
    "        if not(np.any(outcome)):\n",
    "            eventSuccess += 1\n",
    "            \n",
    "            if selectCoin>0.50:\n",
    "                biasSuccess += 1\n",
    "    \n",
    "    return (float)(biasSuccess/eventSuccess)\n",
    "            \n",
    "    \n",
    "print(f\"The probability that a coin is biased towards heads, given that it was randomly chosen, flipped 6 times and all tails occured is:\")\n",
    "print(f\"{typeOfCoinExperiment(allcoins,6,6*[False],1e5):.4f}\")"
   ]
  },
  {
   "cell_type": "markdown",
   "id": "a930d66d",
   "metadata": {},
   "source": [
    "## Problem 3\n",
    "(10 pt)\n",
    "\n",
    "Consider the experiment where you select one card at a time, at random and without replacement, from a playing 52-card deck (13 cards per suit).\n",
    "\n",
    " Let $S_i$ be the event that a spade is the $i$th draw from the deck.\n",
    "\n",
    "Implement simulation to estimate the relative frequency of $P(S_2)$. ( **Hint** : use `random.shuffle` to simulate)\n"
   ]
  },
  {
   "cell_type": "code",
   "execution_count": 82,
   "id": "9fc13c87",
   "metadata": {},
   "outputs": [
    {
     "name": "stdout",
     "output_type": "stream",
     "text": [
      "The probability of drawing a spade on the 2nd draw is: 0.24845\n"
     ]
    }
   ],
   "source": [
    "import numpy as np\n",
    "import random\n",
    "\n",
    "\n",
    "def iThDrawIsOneSuitSimulation(i,numTrials):\n",
    "    \n",
    "    deck = 13*[True] + 39*[False]\n",
    "    #count of trials that result in a card drawn on the ith suit\n",
    "    iThDrawSuccess = 0\n",
    "    \n",
    "    for _ in range(int(numTrials)):\n",
    "        random.shuffle(deck)\n",
    "        if deck[i]:\n",
    "            iThDrawSuccess += 1\n",
    "    \n",
    "    return (float)(iThDrawSuccess / numTrials)\n",
    "        \n",
    "print(f\"The probability of drawing a spade on the 2nd draw is: {iThDrawIsOneSuitSimulation(2,1e5)}\")\n",
    "        \n",
    "\n",
    "\n"
   ]
  },
  {
   "cell_type": "markdown",
   "id": "9545072c",
   "metadata": {},
   "source": [
    "# Submit Your Solutions\n",
    "\n",
    "Confirm that you've successfully completed the assignment.\n",
    "submit both the notebook files and a PDF printout"
   ]
  },
  {
   "cell_type": "code",
   "execution_count": null,
   "id": "18d8819a",
   "metadata": {},
   "outputs": [],
   "source": []
  },
  {
   "cell_type": "code",
   "execution_count": null,
   "id": "780893ca",
   "metadata": {},
   "outputs": [],
   "source": []
  }
 ],
 "metadata": {
  "kernelspec": {
   "display_name": "Python 3 (ipykernel)",
   "language": "python",
   "name": "python3"
  },
  "language_info": {
   "codemirror_mode": {
    "name": "ipython",
    "version": 3
   },
   "file_extension": ".py",
   "mimetype": "text/x-python",
   "name": "python",
   "nbconvert_exporter": "python",
   "pygments_lexer": "ipython3",
   "version": "3.9.13"
  }
 },
 "nbformat": 4,
 "nbformat_minor": 5
}
