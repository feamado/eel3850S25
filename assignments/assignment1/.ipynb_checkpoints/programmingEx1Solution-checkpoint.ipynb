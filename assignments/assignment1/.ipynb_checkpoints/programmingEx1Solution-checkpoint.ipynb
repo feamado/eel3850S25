{
 "cells": [
  {
   "cell_type": "markdown",
   "id": "6c4d7986-88dc-496f-a9c9-6c04032f9cea",
   "metadata": {},
   "source": [
    "\n",
    "\n",
    "**Programming Assignment: Understanding Python Lists, Sets, and NumPy Arrays** **Instructions** Complete the tasks below in a Jupyter Notebook. Ensure to write clear comments and use `print` statements to display the outputs where required.\n",
    "\n"
   ]
  },
  {
   "cell_type": "markdown",
   "id": "8a9bbcb4-8921-4e9e-b5f8-9acf99b28eaa",
   "metadata": {
    "tags": []
   },
   "source": [
    "**1. Python Lists**  \n",
    "1. **Creating and Manipulating Lists**  \n",
    "  - Create a list of 10 random integers between 1 and 100 (use the `random` module).\n",
    "\n",
    "  - Add two new numbers to the list.\n",
    "\n",
    "  - Remove the smallest number from the list.\n",
    "\n",
    "  - Sort the list in descending order.\n",
    "\n",
    "  - Display the modified list and its length.\n",
    " \n",
    "2. **List Comprehension** \n",
    "  - Generate a new list containing the squares of all even numbers from the list you created in the previous step.\n",
    "\n",
    "  - Display the resulting list.\n"
   ]
  },
  {
   "cell_type": "code",
   "execution_count": 13,
   "id": "3742ecf2-558d-48cf-9c6d-2b3adae150cb",
   "metadata": {},
   "outputs": [
    {
     "name": "stdout",
     "output_type": "stream",
     "text": [
      "[79, 99, 84, 40, 12, 56, 80, 79, 19, 68]\n",
      "[79, 99, 84, 40, 12, 56, 80, 79, 19, 68, 96, 14]\n",
      "[79, 99, 84, 40, 56, 80, 79, 19, 68, 96, 14]\n",
      "[99, 96, 84, 80, 79, 79, 68, 56, 40, 19, 14]\n",
      "[9216, 7056, 6400, 4624, 3136, 1600, 196]\n"
     ]
    }
   ],
   "source": [
    "import random\n",
    "random_list = [random.randint(1,100) for _ in range(10)]\n",
    "print(random_list)\n",
    "\n",
    "random_list += [random.randint(1,100) for _ in range(2)]\n",
    "print(random_list)\n",
    "\n",
    "random_list.remove(min(random_list))\n",
    "print(random_list)\n",
    "\n",
    "random_list.sort(reverse = True)\n",
    "print(random_list)\n",
    "\n",
    "random_list_squares = [n**2 for n in random_list if n%2 == 0]\n",
    "print(random_list_squares)"
   ]
  },
  {
   "cell_type": "markdown",
   "id": "64975009-b4c7-4452-b6d0-27788cfebe6d",
   "metadata": {},
   "source": [
    "\n",
    "\n",
    "**2. Python Sets**  \n",
    "1. **Creating and Manipulating Sets** \n",
    "  - Convert the original list (from section 1) into a set to remove duplicates.\n",
    " \n",
    "  - Add the number `101` to the set.\n",
    " \n",
    "  - Check if the number `49` is present in the set.\n",
    "\n",
    "  - Remove an arbitrary element from the set.\n",
    "\n",
    "  - Display the resulting set and its size.\n",
    " \n",
    "2. **Set Operations** \n",
    "  - Create a new set containing all multiples of 5 between 1 and 100.\n",
    " \n",
    "  - Perform the following operations:\n",
    "    - Find the intersection of the two sets.\n",
    "\n",
    "    - Find the union of the two sets.\n",
    "\n",
    "    - Find the difference between the original set and the new set.\n",
    "\n",
    "  - Display the results of each operation.\n",
    "\n"
   ]
  },
  {
   "cell_type": "code",
   "execution_count": 26,
   "id": "6fafaf2e-54d5-4f68-9088-4d808027903b",
   "metadata": {},
   "outputs": [
    {
     "name": "stdout",
     "output_type": "stream",
     "text": [
      "{96, 99, 68, 40, 14, 79, 80, 19, 84, 56}\n",
      "{96, 99, 68, 101, 40, 14, 79, 80, 19, 84, 56}\n",
      "False\n",
      "96\n",
      "{99, 68, 101, 40, 14, 79, 80, 19, 84, 56}, size == 10\n",
      "{5, 10, 15, 20, 25, 30, 35, 40, 45, 50, 55, 60, 65, 70, 75, 80, 85, 90, 95, 100}\n",
      "{40, 80}\n",
      "{65, 68, 5, 70, 10, 75, 14, 79, 80, 15, 19, 84, 20, 85, 25, 90, 30, 95, 99, 35, 101, 100, 40, 45, 50, 55, 56, 60}\n",
      "{99, 68, 101, 14, 79, 19, 84, 56}\n"
     ]
    }
   ],
   "source": [
    "random_set = set(random_list)\n",
    "print(random_set)\n",
    "\n",
    "random_set.add(101)\n",
    "print(random_set)\n",
    "\n",
    "print(49 in random_set)\n",
    "\n",
    "print(random_set.pop())\n",
    "\n",
    "print(f\"{random_set}, size == {len(random_set)}\")\n",
    "\n",
    "multiples_Set = {5*n for n in range(1,21)}\n",
    "print(multiples_Set)\n",
    "\n",
    "intersectionSet = multiples_Set & random_set\n",
    "print(intersectionSet)\n",
    "\n",
    "unionSet = random_set | multiples_Set\n",
    "print(unionSet)\n",
    "\n",
    "differenceSet = random_set - multiples_Set\n",
    "print(differenceSet)\n"
   ]
  },
  {
   "cell_type": "markdown",
   "id": "2553e76c-29e9-4adf-9a22-e73bba24b65d",
   "metadata": {},
   "source": [
    "\n",
    "**3. NumPy Arrays**  \n",
    "1. **Array Creation and Indexing** \n",
    "  - Create a NumPy array of shape (1, 10) filled with random integers between 1 and 50.\n",
    "\n",
    "  - Replace the second row with all zeros.\n",
    "\n",
    "  - Display the modified array.\n",
    "  \n",
    "2. **Array Operations** \n",
    "  - Create another NumPy array of the same shape (1, 10) with random integers between 1 and 20.\n",
    "\n",
    "  - Perform element-wise addition, subtraction, and multiplication between the two arrays.\n",
    "\n",
    "  - Compute the mean, maximum, and minimum values of the resulting arrays.\n",
    "\n",
    "  - Display the results.\n",
    " "
   ]
  },
  {
   "cell_type": "code",
   "execution_count": 29,
   "id": "90399d66-8754-43a1-b8c3-3c8e325228eb",
   "metadata": {},
   "outputs": [
    {
     "name": "stdout",
     "output_type": "stream",
     "text": [
      "[ 6 39 12 31 16 31  6 38 35 20]\n",
      "[ 9  3 20 16  8  7 20 18 10 10]\n",
      "[15 42 32 47 24 38 26 56 45 30]\n",
      "[ -3  36  -8  15   8  24 -14  20  25  10]\n",
      "[  36 1521  144  961  256  961   36 1444 1225  400]\n"
     ]
    }
   ],
   "source": [
    "import numpy as np\n",
    "\n",
    "numPyRand = np.random.randint(1,51,size = 10)\n",
    "print(numPyRand)\n",
    "\n",
    "numPyRand2 = np.random.randint(1,21,size = 10)\n",
    "print(numPyRand2)\n",
    "\n",
    "add = numPyRand + numPyRand2\n",
    "print(add)\n",
    "\n",
    "sub = numPyRand - numPyRand2\n",
    "print(sub)\n",
    "\n",
    "mult = numPyRand * numPyRand\n",
    "print(mult)\n",
    "\n",
    "\n",
    "addMean = add.mean()\n",
    "print(addMean)\n",
    "\n",
    "subMean = sub.mean()\n",
    "print(subMean)\n",
    "\n",
    "multMean = mult.mean()\n",
    "print(multMean)\n",
    "\n"
   ]
  },
  {
   "cell_type": "markdown",
   "id": "09899948-713f-4980-947f-2be362a48c7e",
   "metadata": {},
   "source": [
    "\n",
    "3.  ** Integrate all the structures:\n",
    "\n",
    "- Create a list of 50 random integers between 1 and 50.\n",
    "\n",
    "- Convert it to a set to remove duplicates.\n",
    "\n",
    "- Create a NumPy array from the resulting set.\n",
    "\n",
    "- Multiply all elements in the array by 2.\n",
    "\n",
    "- Display the final array."
   ]
  },
  {
   "cell_type": "code",
   "execution_count": 31,
   "id": "b75179bf-9fc1-4de1-9bb3-e45c8db15d6e",
   "metadata": {},
   "outputs": [
    {
     "name": "stdout",
     "output_type": "stream",
     "text": [
      "[23 48 12  6 25 29 10  9  1 32 20 22 31 17  4 20 32 41 21 23 25  8 22 50\n",
      "  2 26 11 29 17 34 27 17 17 12 11 30 41 46 10 36 24  2 40 43 35 13  1  9\n",
      " 10 12]\n",
      "{1, 2, 4, 6, 8, 9, 10, 11, 12, 13, 17, 20, 21, 22, 23, 24, 25, 26, 27, 29, 30, 31, 32, 34, 35, 36, 40, 41, 43, 46, 48, 50}\n",
      "[ 1  2  4  6  8  9 10 11 12 13 17 20 21 22 23 24 25 26 27 29 30 31 32 34\n",
      " 35 36 40 41 43 46 48 50]\n",
      "[  2   4   8  12  16  18  20  22  24  26  34  40  42  44  46  48  50  52\n",
      "  54  58  60  62  64  68  70  72  80  82  86  92  96 100]\n"
     ]
    }
   ],
   "source": [
    "randFinal = np.random.randint(1,51,size = 50)\n",
    "print(randFinal)\n",
    "setRandFinal = set(randFinal)\n",
    "print(setRandFinal)\n",
    "numPySet = np.array(list(setRandFinal))\n",
    "print(numPySet)\n",
    "out = numPySet * 2\n",
    "print(out)"
   ]
  },
  {
   "cell_type": "code",
   "execution_count": null,
   "id": "93b21085",
   "metadata": {},
   "outputs": [],
   "source": []
  }
 ],
 "metadata": {
  "kernelspec": {
   "display_name": "Python 3 (ipykernel)",
   "language": "python",
   "name": "python3"
  },
  "language_info": {
   "codemirror_mode": {
    "name": "ipython",
    "version": 3
   },
   "file_extension": ".py",
   "mimetype": "text/x-python",
   "name": "python",
   "nbconvert_exporter": "python",
   "pygments_lexer": "ipython3",
   "version": "3.9.13"
  }
 },
 "nbformat": 4,
 "nbformat_minor": 5
}
