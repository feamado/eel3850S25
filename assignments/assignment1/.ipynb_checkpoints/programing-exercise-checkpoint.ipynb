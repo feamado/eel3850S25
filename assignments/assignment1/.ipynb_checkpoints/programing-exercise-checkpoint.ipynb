{
 "cells": [
  {
   "cell_type": "markdown",
   "id": "6c4d7986-88dc-496f-a9c9-6c04032f9cea",
   "metadata": {},
   "source": [
    "\n",
    "\n",
    "**Programming Assignment: Understanding Python Lists, Sets, and NumPy Arrays** **Instructions** Complete the tasks below in a Jupyter Notebook. Ensure to write clear comments and use `print` statements to display the outputs where required.\n",
    "\n"
   ]
  },
  {
   "cell_type": "markdown",
   "id": "8a9bbcb4-8921-4e9e-b5f8-9acf99b28eaa",
   "metadata": {
    "tags": []
   },
   "source": [
    "**1. Python Lists**  \n",
    "1. **Creating and Manipulating Lists**  \n",
    "  - Create a list of 10 random integers between 1 and 100 (use the `random` module).\n",
    "\n",
    "  - Add two new numbers to the list.\n",
    "\n",
    "  - Remove the smallest number from the list.\n",
    "\n",
    "  - Sort the list in descending order.\n",
    "\n",
    "  - Display the modified list and its length.\n",
    " \n",
    "2. **List Comprehension** \n",
    "  - Generate a new list containing the squares of all even numbers from the list you created in the previous step.\n",
    "\n",
    "  - Display the resulting list.\n"
   ]
  },
  {
   "cell_type": "code",
   "execution_count": null,
   "id": "3742ecf2-558d-48cf-9c6d-2b3adae150cb",
   "metadata": {},
   "outputs": [],
   "source": [
    "import random\n",
    "randlist = [random.randint(1,100)]\n",
    "print(randlist)"
   ]
  },
  {
   "cell_type": "markdown",
   "id": "64975009-b4c7-4452-b6d0-27788cfebe6d",
   "metadata": {},
   "source": [
    "\n",
    "\n",
    "**2. Python Sets**  \n",
    "1. **Creating and Manipulating Sets** \n",
    "  - Convert the original list (from section 1) into a set to remove duplicates.\n",
    " \n",
    "  - Add the number `101` to the set.\n",
    " \n",
    "  - Check if the number `49` is present in the set.\n",
    "\n",
    "  - Remove an arbitrary element from the set.\n",
    "\n",
    "  - Display the resulting set and its size.\n",
    " \n",
    "2. **Set Operations** \n",
    "  - Create a new set containing all multiples of 5 between 1 and 100.\n",
    " \n",
    "  - Perform the following operations:\n",
    "    - Find the intersection of the two sets.\n",
    "\n",
    "    - Find the union of the two sets.\n",
    "\n",
    "    - Find the difference between the original set and the new set.\n",
    "\n",
    "  - Display the results of each operation.\n",
    "\n"
   ]
  },
  {
   "cell_type": "code",
   "execution_count": null,
   "id": "6fafaf2e-54d5-4f68-9088-4d808027903b",
   "metadata": {},
   "outputs": [],
   "source": []
  },
  {
   "cell_type": "markdown",
   "id": "2553e76c-29e9-4adf-9a22-e73bba24b65d",
   "metadata": {},
   "source": [
    "\n",
    "**3. NumPy Arrays**  \n",
    "1. **Array Creation and Indexing** \n",
    "  - Create a NumPy array of shape (1, 10) filled with random integers between 1 and 50.\n",
    "\n",
    "  - Replace the second row with all zeros.\n",
    "\n",
    "  - Display the modified array.\n",
    "  \n",
    "2. **Array Operations** \n",
    "  - Create another NumPy array of the same shape (1, 10) with random integers between 1 and 20.\n",
    "\n",
    "  - Perform element-wise addition, subtraction, and multiplication between the two arrays.\n",
    "\n",
    "  - Compute the mean, maximum, and minimum values of the resulting arrays.\n",
    "\n",
    "  - Display the results.\n",
    " "
   ]
  },
  {
   "cell_type": "code",
   "execution_count": null,
   "id": "90399d66-8754-43a1-b8c3-3c8e325228eb",
   "metadata": {},
   "outputs": [],
   "source": []
  },
  {
   "cell_type": "markdown",
   "id": "09899948-713f-4980-947f-2be362a48c7e",
   "metadata": {},
   "source": [
    "\n",
    "3.  ** Integrate all the structures:\n",
    "\n",
    "- Create a list of 50 random integers between 1 and 50.\n",
    "\n",
    "- Convert it to a set to remove duplicates.\n",
    "\n",
    "- Create a NumPy array from the resulting set.\n",
    "\n",
    "- Multiply all elements in the array by 2.\n",
    "\n",
    "- Display the final array."
   ]
  },
  {
   "cell_type": "code",
   "execution_count": null,
   "id": "b75179bf-9fc1-4de1-9bb3-e45c8db15d6e",
   "metadata": {},
   "outputs": [],
   "source": []
  }
 ],
 "metadata": {
  "kernelspec": {
   "display_name": "Python 3 (ipykernel)",
   "language": "python",
   "name": "python3"
  },
  "language_info": {
   "codemirror_mode": {
    "name": "ipython",
    "version": 3
   },
   "file_extension": ".py",
   "mimetype": "text/x-python",
   "name": "python",
   "nbconvert_exporter": "python",
   "pygments_lexer": "ipython3",
   "version": "3.9.13"
  }
 },
 "nbformat": 4,
 "nbformat_minor": 5
}
