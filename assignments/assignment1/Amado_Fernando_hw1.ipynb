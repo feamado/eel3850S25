{
 "cells": [
  {
   "cell_type": "markdown",
   "metadata": {},
   "source": [
    "# Homework 1 Part 2\n",
    "\n",
    "[total 50pt]\n",
    "\n",
    "This is an individual assignment."
   ]
  },
  {
   "cell_type": "markdown",
   "metadata": {},
   "source": [
    "## Description\n",
    "\n",
    "Create or edit this Jupyter Notebook to answer the questions below. Use simulations to answer these questions. An analytical solution can be useful to check if your simulation is correct but analytical solutions alone will not be accepted as a solution to a problem."
   ]
  },
  {
   "cell_type": "markdown",
   "metadata": {},
   "source": [
    "## Problem 1\n",
    "\n",
    "[20pt]\n",
    "\n",
    "Consider repeatedly rolling a fair 6-sided die.\n",
    "\n",
    "1. [5pt] Create a simulation to compute the probability that the top face will be 4 at least once on 10 rolls of the die?\n",
    "2. [5pt] Create a simulation to compute the probability that the top face will be 4 at least once on 20 rolls of the die?\n",
    "3. [5pt] Create a simulation to compute how many rolls of the die would you have to do to be 90% confident that you would see at least one 4?\n",
    "4. [5pt] Using the formula you have computed in problem 2 part 4, make a Python function that takes in the target value $p$ and outputs the required number of rolls of an integer. \n",
    "    1. Find the values for $p=0.95$ and $p=0.99$. \n",
    "    2. Use your simulation to verify that the number of rolls you specified is sufficient to achieve $p\\geq 0.95$.\n",
    "    \n",
    "    \n",
    "    \n",
    "Hint: You need to use some math function: \n",
    "    \n",
    "    - The math.ceil() method rounds a number UP to the nearest integer, \n",
    "    \n",
    "    - The math.log() method returns the natural logarithm of a number, or the logarithm of number to base.\n"
   ]
  },
  {
   "cell_type": "code",
   "execution_count": 31,
   "metadata": {},
   "outputs": [
    {
     "name": "stdout",
     "output_type": "stream",
     "text": [
      " 1. Probability that the top face is 4 at least once in 10 rolls: 0.83864\n",
      " 2. Probability that the top face is 4 at least once in 20 rolls: 0.97441\n",
      " 3. Number of rolls needed for 90% confidence of at least one 4: 13\n",
      " 4.A1 Number of rolls for 95% confidence of at least one 4: 17\n",
      " 4.A2 Number of rolls for 99% confidence of at least one 4: 26\n",
      " 4.B1 Probability that the top face is 4 at least once in 17 rolls: 0.95367\n",
      " 4.B2 Probability that the top face is 4 at least once in 26 rolls: 0.99111\n"
     ]
    }
   ],
   "source": [
    "import random\n",
    "import math\n",
    "n_simulations = 100000\n",
    "n_rolls = 10            \n",
    "\n",
    "success = 0\n",
    "\n",
    "#Sim 1\n",
    "for _ in range(n_simulations):\n",
    "    rolls = [random.randint(1, 6) for _ in range(n_rolls)]\n",
    "\n",
    "    if 4 in rolls:\n",
    "        success += 1\n",
    "\n",
    "\n",
    "probability = success / n_simulations\n",
    "\n",
    "\n",
    "print(f\" 1. Probability that the top face is 4 at least once in {n_rolls} rolls: {probability}\")\n",
    "\n",
    "n_rolls = 20\n",
    "success = 0\n",
    "#Sim 2\n",
    "for _ in range(n_simulations):\n",
    "    rolls = [random.randint(1, 6) for _ in range(n_rolls)]\n",
    "\n",
    "    if 4 in rolls:\n",
    "        success += 1\n",
    "\n",
    "probability = success / n_simulations\n",
    "\n",
    "print(f\" 2. Probability that the top face is 4 at least once in {n_rolls} rolls: {probability}\")\n",
    "\n",
    "\n",
    "\n",
    "#SIM 3\n",
    "\n",
    "def required_rolls(target, probability):\n",
    "    return math.ceil(math.log(1 - target) / math.log(1 - probability))\n",
    "\n",
    "p_four = float(1/6)\n",
    "target_p  = 0.90\n",
    "\n",
    "required90 = required_rolls(target_p,p_four)\n",
    "print(f\" 3. Number of rolls needed for 90% confidence of at least one 4: {required90}\")\n",
    "\n",
    "#SIM 4\n",
    "\n",
    "print(f\" 4.A1 Number of rolls for 95% confidence of at least one 4: {required_rolls(0.95,p_four)}\")\n",
    "print(f\" 4.A2 Number of rolls for 99% confidence of at least one 4: {required_rolls(0.99,p_four)}\")\n",
    "\n",
    "\n",
    "n_rolls = 17\n",
    "success = 0\n",
    "\n",
    "for _ in range(n_simulations):\n",
    "    rolls = [random.randint(1, 6) for _ in range(n_rolls)]\n",
    "\n",
    "    if 4 in rolls:\n",
    "        success += 1\n",
    "\n",
    "probability = success / n_simulations\n",
    "\n",
    "print(f\" 4.B1 Probability that the top face is 4 at least once in {n_rolls} rolls: {probability}\")\n",
    "\n",
    "n_rolls = 26\n",
    "success = 0\n",
    "\n",
    "for _ in range(n_simulations):\n",
    "    rolls = [random.randint(1, 6) for _ in range(n_rolls)]\n",
    "\n",
    "    if 4 in rolls:\n",
    "        success += 1\n",
    "\n",
    "probability = success / n_simulations\n",
    "\n",
    "print(f\" 4.B2 Probability that the top face is 4 at least once in {n_rolls} rolls: {probability}\")\n",
    "    \n",
    "\n"
   ]
  },
  {
   "cell_type": "markdown",
   "metadata": {},
   "source": [
    "## Problem 2\n",
    "\n",
    "[15 pt]\n",
    "Create a simulation function where you will roll a fair 6-sided die twice. Use simulation to find out the probability of getting a even number on the first toss and a number greater than or equals 3 on the second toss. "
   ]
  },
  {
   "cell_type": "code",
   "execution_count": 21,
   "metadata": {},
   "outputs": [
    {
     "name": "stdout",
     "output_type": "stream",
     "text": [
      "The probability of getting a even number on the first toss and a number greater than or equals 3 on the second toss: 0.33352\n"
     ]
    }
   ],
   "source": [
    "n_simulations = 100000\n",
    "n_rolls = 2\n",
    "\n",
    "success = 0\n",
    "for _ in range(n_simulations):\n",
    "    rolls = [random.randint(1, 6) for _ in range(n_rolls)]\n",
    "    \n",
    "    if rolls[0] % 2 == 0 and rolls[1] >= 3:\n",
    "        success += 1\n",
    "\n",
    "probability = success / n_simulations\n",
    "print(f\"The probability of getting a even number on the first toss and a number => 3 on the second toss: {probability}\")\n",
    "\n",
    "        \n"
   ]
  },
  {
   "cell_type": "markdown",
   "metadata": {},
   "source": [
    "## Problem 3\n",
    "\n",
    "[15pt]\n",
    "\n",
    "Suppose that you have a bag with 3 coins. One of them is a fair coin, but the others are biased trick coins. When flipped, the three coins come up heads with probability $\\frac{1}{2}$, $\\frac{1}{5}$, and $\\frac{1}{4}$, respectively.\n",
    "\n",
    "1. [10pt ]Consider the experiment where you pick one coin at random and flip it three times. Let $H_i$ be the event that the coin comes up heads on flip $i$. What is the probability of the outcome $H_1\\cap H_2\\cap {H^c_3}$?\n",
    "\n",
    "2. [5pt ] With small modification in your code, find out the probability of the outcome $H^c_1\\cap {H^c_2} \\cap {H_3}$.\n",
    "\n",
    "Use simulation to find out the probability."
   ]
  },
  {
   "cell_type": "code",
   "execution_count": 20,
   "metadata": {},
   "outputs": [
    {
     "name": "stdout",
     "output_type": "stream",
     "text": [
      "Probability of two heads in first two flips and tail in third is 0.06615\n",
      "Probability of two tails in first two flips and head in third is 0.13084\n"
     ]
    }
   ],
   "source": [
    "#default parameters\n",
    "n_simulations = 100000\n",
    "n_coins = 3\n",
    "n_flips = 3\n",
    "bag = [0.5,0.2,0.25]\n",
    "success = 0\n",
    "\n",
    "def pick_coin(bag):\n",
    "    return random.choice(bag)\n",
    "#True = heads\n",
    "#False = tailes\n",
    "#random.random returns random number from 0 to 1\n",
    "def flip_coin(coin):\n",
    "    return True if random.random()<coin else False\n",
    "## Simulation 1\n",
    "for _ in range(n_simulations):\n",
    "    #pick the random coin\n",
    "    p_coin = pick_coin(bag)\n",
    "    outcomes = [flip_coin(p_coin) for _ in range(n_flips)]\n",
    "    \n",
    "    if outcomes[0] and outcomes[1] and not outcomes[2]:\n",
    "        success+=1\n",
    "    \n",
    "probability  = success/n_simulations\n",
    "print(f\"1.Probability of two heads in first two flips and tail in third is {probability}\")\n",
    "\n",
    "## Simulation 2\n",
    "success = 0\n",
    "for _ in range(n_simulations):\n",
    "    #pick the random coin\n",
    "    p_coin = pick_coin(bag)\n",
    "    outcomes = [flip_coin(p_coin) for _ in range(n_flips)]\n",
    "    \n",
    "    if not outcomes[0] and not outcomes[1] and outcomes[2]:\n",
    "        success+=1\n",
    "    \n",
    "probability  = success/n_simulations\n",
    "print(f\"2.Probability of two tails in first two flips and head in third is {probability}\")    \n",
    "        \n"
   ]
  },
  {
   "cell_type": "markdown",
   "metadata": {},
   "source": [
    "# Submit Your Solutions\n",
    " \n",
    "Along with the Notebook, include a PDF of the notebook with your solutions."
   ]
  },
  {
   "cell_type": "code",
   "execution_count": null,
   "metadata": {},
   "outputs": [],
   "source": []
  },
  {
   "cell_type": "code",
   "execution_count": null,
   "metadata": {},
   "outputs": [],
   "source": []
  }
 ],
 "metadata": {
  "kernelspec": {
   "display_name": "Python 3 (ipykernel)",
   "language": "python",
   "name": "python3"
  },
  "language_info": {
   "codemirror_mode": {
    "name": "ipython",
    "version": 3
   },
   "file_extension": ".py",
   "mimetype": "text/x-python",
   "name": "python",
   "nbconvert_exporter": "python",
   "pygments_lexer": "ipython3",
   "version": "3.9.13"
  },
  "latex_envs": {
   "LaTeX_envs_menu_present": true,
   "autoclose": false,
   "autocomplete": true,
   "bibliofile": "biblio.bib",
   "cite_by": "apalike",
   "current_citInitial": 1,
   "eqLabelWithNumbers": true,
   "eqNumInitial": 1,
   "hotkeys": {
    "equation": "Ctrl-E",
    "itemize": "Ctrl-I"
   },
   "labels_anchors": false,
   "latex_user_defs": false,
   "report_style_numbering": false,
   "user_envs_cfg": false
  },
  "varInspector": {
   "cols": {
    "lenName": 16,
    "lenType": 16,
    "lenVar": 40
   },
   "kernels_config": {
    "python": {
     "delete_cmd_postfix": "",
     "delete_cmd_prefix": "del ",
     "library": "var_list.py",
     "varRefreshCmd": "print(var_dic_list())"
    },
    "r": {
     "delete_cmd_postfix": ") ",
     "delete_cmd_prefix": "rm(",
     "library": "var_list.r",
     "varRefreshCmd": "cat(var_dic_list()) "
    }
   },
   "types_to_exclude": [
    "module",
    "function",
    "builtin_function_or_method",
    "instance",
    "_Feature"
   ],
   "window_display": false
  }
 },
 "nbformat": 4,
 "nbformat_minor": 4
}
