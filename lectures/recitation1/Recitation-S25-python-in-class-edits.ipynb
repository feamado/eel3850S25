{
 "cells": [
  {
   "cell_type": "markdown",
   "id": "3a6fb16e",
   "metadata": {},
   "source": [
    "# Recitation (Extra exercises)\n"
   ]
  },
  {
   "cell_type": "code",
   "execution_count": 1,
   "id": "987b4dee",
   "metadata": {},
   "outputs": [],
   "source": [
    "import numpy as np\n",
    "import random\n",
    "import pandas as pd\n",
    "import numpy.random as npr\n",
    "import matplotlib.pyplot as plt\n",
    "plt.style.use('bmh')"
   ]
  },
  {
   "cell_type": "markdown",
   "id": "c4551838-889d-4d43-9185-89e71f619672",
   "metadata": {},
   "source": [
    "## use random experiment simulation to compute relative frequence."
   ]
  },
  {
   "cell_type": "markdown",
   "id": "01da1d10",
   "metadata": {},
   "source": [
    "# Problem 1 \n",
    "\n",
    "Two dice are rolled. Consider three events.\n",
    "A = ‘sum of two dice equals 3’,\n",
    "B = ‘sum of two dice equals 7’,\n",
    "C = ‘at least one of the dice shows a 1’\n",
    "\n",
    "a. What is P(A|C)?\n",
    "\n",
    "b. What is P(B|C)?\n"
   ]
  },
  {
   "cell_type": "code",
   "execution_count": null,
   "id": "f90594ef-f081-4b09-9b06-012c5d49ed44",
   "metadata": {},
   "outputs": [],
   "source": [
    "num_sims=10\n",
    "dice = npr.randint(1,7, size=(2, num_sims))\n",
    "sum_dice = np.sum(dice, axis= 0) # axis=0: Sum along the columns (vertically).\n",
    "countA = np.sum(sum_dice == 3) \n",
    "print('the count of event A is: ', countA)\n",
    "print('the probability of event A is: ', countA/num_sims)\n",
    "\n",
    "\n",
    "countB = np.sum(sum_dice == 7)\n",
    "print('the count of event B is: ', countB)\n",
    "print('the probability of event B is: ', countB/num_sims)\n",
    "\n",
    "countC =np.sum(np.sum(dice==1, axis=0)>0)\n",
    "print('the count of event C is: ', countC)\n",
    "print('the probability of event C is: ', countC/num_sims)\n",
    "\n",
    "\n",
    " \n",
    "eventC = np.sum(dice==1, axis=0)>0\n",
    "print(eventC)\n",
    "\n",
    "countAC = np.sum([sum_dice[k] == 3 and eventC[k]==1 for k in range(num_sims)])  \n",
    "print('The probability of A given C is ', countAC/countC)\n",
    "\n",
    " \n",
    "\n",
    "countBC = np.sum([sum_dice[k] == 7 and eventC[k]==1 for k in range(num_sims)])  \n",
    "print('The probability of A given C is ', countBC/countC)\n"
   ]
  },
  {
   "cell_type": "markdown",
   "id": "6958fee0",
   "metadata": {},
   "source": [
    "# Problem 3\n",
    "An urn contains 30\n",
    " red balls and 70\n",
    " green balls.\n",
    " \n",
    " \n",
    " * What is the probability of getting exactly 5\n",
    " red balls in a sample of size 20\n",
    " if the sampling is done with replacement (repetition allowed)?\n",
    " \n",
    " * What is the probability of getting exactly 5\n",
    " red balls in a sample of size 20\n",
    " if the sampling is done without replacement (repetition not allowed)? "
   ]
  },
  {
   "cell_type": "code",
   "execution_count": 38,
   "id": "2454eff9",
   "metadata": {},
   "outputs": [
    {
     "name": "stdout",
     "output_type": "stream",
     "text": [
      "the relative frequency of selecting 5 red with replacement is:  0.1804\n"
     ]
    }
   ],
   "source": [
    "urn1 = np.array(np.zeros([70,1]), dtype='bool')\n",
    "urn2 = np.array(np.ones([30,1]), dtype ='bool')\n",
    "urn = np.concatenate((urn1,urn2), axis=None)\n",
    "count = 0\n",
    "num_sims= 10000\n",
    "for sim in range(num_sims):\n",
    "    choose20 = npr.choice(urn,20,replace=True) # change replace=False for the second\n",
    "    if np.sum(choose20==True)== 5:\n",
    "        count += 1\n",
    "print(\"the relative frequency of selecting 5 red with replacement is: \", count/num_sims)"
   ]
  },
  {
   "cell_type": "markdown",
   "id": "a144a048",
   "metadata": {},
   "source": [
    "# Problem 4\n",
    "Assume that there are k\n",
    " people in a room and we know that:\n",
    " \n",
    "k=5\n",
    " with probability $1/4$\n",
    ";\n",
    "\n",
    "k=10\n",
    " with probability $1/4$\n",
    ";\n",
    "\n",
    "k=15\n",
    " with probability $1/2$\n",
    ".\n",
    "\n",
    "What is the probability that at least two of them have been born in the same month? Assume that all months are equally likely."
   ]
  },
  {
   "cell_type": "code",
   "execution_count": 36,
   "id": "0114e183-ae36-4a56-a649-4aedba0ff03f",
   "metadata": {},
   "outputs": [
    {
     "name": "stdout",
     "output_type": "stream",
     "text": [
      "rel. freq 0.9027\n"
     ]
    }
   ],
   "source": [
    "num_sims = 10_000\n",
    "count = 0\n",
    "for sim in range(num_sims):\n",
    "    selectk = npr.choice([5,10,15], p=[1/4, 1/4, 1/2])\n",
    "    birthmonth = npr.choice(range(1,13), selectk)\n",
    "    uniquemonth, counts = np.unique(birthmonth, return_counts = True)\n",
    "    if np.sum(counts >=2) >0:\n",
    "        count +=1\n",
    "print('rel. freq', count/num_sims)"
   ]
  },
  {
   "cell_type": "code",
   "execution_count": 31,
   "id": "cd68dfcd-b8e9-4782-aaf9-7a866834c9ec",
   "metadata": {},
   "outputs": [
    {
     "data": {
      "text/plain": [
       "array([ 4,  1,  1,  5,  8, 12, 12,  8,  4,  8,  5,  1,  5,  4, 12])"
      ]
     },
     "execution_count": 31,
     "metadata": {},
     "output_type": "execute_result"
    }
   ],
   "source": [
    "selectk = npr.choice([5,10,15], p=[1/4, 1/4, 1/2])\n",
    "birthmonth = npr.choice(range(1,13), selectk)\n"
   ]
  },
  {
   "cell_type": "code",
   "execution_count": 35,
   "id": "fac7aa8f-23f5-46b6-a72b-d7945c401f90",
   "metadata": {},
   "outputs": [
    {
     "data": {
      "text/plain": [
       "True"
      ]
     },
     "execution_count": 35,
     "metadata": {},
     "output_type": "execute_result"
    }
   ],
   "source": [
    "uniquemonth, counts = np.unique(birthmonth, return_counts = True)\n",
    "uniquemonth, counts\n",
    "np.sum(counts >=2) >0"
   ]
  },
  {
   "cell_type": "markdown",
   "id": "4278738a",
   "metadata": {},
   "source": [
    "\n",
    "# Problem 4 [Null hypothesis testing and bootstrap sampling]\n",
    "\n",
    "Consider two sets of coinflip experiments. the outcome 0 for tails and 1 for heads."
   ]
  },
  {
   "cell_type": "code",
   "execution_count": 2,
   "id": "43902a70",
   "metadata": {},
   "outputs": [],
   "source": [
    "data1 =np.array([0, 1, 0, 0, 1, 0, 0, 0, 1, 1, 0, 1, 0, 0, 0, 0, 0, 1, 0, 0, 1, 1,\n",
    "       0, 0, 1, 1, 1, 1, 1, 0, 1, 1, 1, 0, 1, 1, 0, 0, 0, 0, 1, 1, 0, 0,\n",
    "       1, 0, 1, 0, 0, 1])"
   ]
  },
  {
   "cell_type": "code",
   "execution_count": 3,
   "id": "5b68f94b-40cd-478a-95f1-ded00e990891",
   "metadata": {},
   "outputs": [],
   "source": [
    "data2 = np.array([1, 0, 0, 0, 0, 0, 0, 1, 0, 0, 0, 1, 0, 0, 1, 0, 0, 0, 0, 0, 1, 0,\n",
    "       0, 0, 0, 0, 0, 0, 0, 1, 0, 1, 0, 0, 0, 1, 0, 1, 0, 0, 1, 0, 0, 0,\n",
    "       0, 1, 0, 0, 0, 0, 1, 0, 0, 1, 0, 0, 1, 1, 1, 0, 0, 1, 0, 0, 0, 1,\n",
    "       0, 1, 0, 0, 0, 1, 0, 0, 0, 1, 0, 0, 0, 1, 1, 1, 0, 0, 0, 0, 1, 0,\n",
    "       0, 0, 0, 1, 0, 0, 0, 1, 0, 0, 0, 1]) "
   ]
  },
  {
   "cell_type": "markdown",
   "id": "b74df1ab-0c3f-453b-9189-6f8187bf87bd",
   "metadata": {},
   "source": [
    "Null hypothesis: These two data set are generated by the same coin (whose distribution is unknown. That is, the coin can be loaded.)\n",
    "\n",
    "Perform Null hypothesis testing with significant level $\\alpha =0.05$"
   ]
  },
  {
   "cell_type": "code",
   "execution_count": 7,
   "id": "9a3174c7-ff76-43a3-850f-183a80272ee0",
   "metadata": {},
   "outputs": [
    {
     "data": {
      "text/plain": [
       "0.18"
      ]
     },
     "execution_count": 7,
     "metadata": {},
     "output_type": "execute_result"
    }
   ],
   "source": [
    "avg1 = np.sum(data1)/len(data1)\n",
    "avg2 = np.sum(data2)/len(data2)\n",
    "diff = np.abs(avg1 - avg2)\n",
    "diff"
   ]
  },
  {
   "cell_type": "code",
   "execution_count": 9,
   "id": "c9c187f4-fa40-408a-af59-1b9df45377c5",
   "metadata": {},
   "outputs": [
    {
     "data": {
      "text/plain": [
       "array([0, 1, 0, 0, 1, 0, 0, 0, 1, 1, 0, 1, 0, 0, 0, 0, 0, 1, 0, 0, 1, 1,\n",
       "       0, 0, 1, 1, 1, 1, 1, 0, 1, 1, 1, 0, 1, 1, 0, 0, 0, 0, 1, 1, 0, 0,\n",
       "       1, 0, 1, 0, 0, 1, 1, 0, 0, 0, 0, 0, 0, 1, 0, 0, 0, 1, 0, 0, 1, 0,\n",
       "       0, 0, 0, 0, 1, 0, 0, 0, 0, 0, 0, 0, 0, 1, 0, 1, 0, 0, 0, 1, 0, 1,\n",
       "       0, 0, 1, 0, 0, 0, 0, 1, 0, 0, 0, 0, 1, 0, 0, 1, 0, 0, 1, 1, 1, 0,\n",
       "       0, 1, 0, 0, 0, 1, 0, 1, 0, 0, 0, 1, 0, 0, 0, 1, 0, 0, 0, 1, 1, 1,\n",
       "       0, 0, 0, 0, 1, 0, 0, 0, 0, 1, 0, 0, 0, 1, 0, 0, 0, 1])"
      ]
     },
     "execution_count": 9,
     "metadata": {},
     "output_type": "execute_result"
    }
   ],
   "source": [
    "pooled = np.hstack((data1, data2))\n",
    "pooled\n"
   ]
  },
  {
   "cell_type": "code",
   "execution_count": 10,
   "id": "bce8897a-f6f4-4ef5-ac08-41b92ece5ab0",
   "metadata": {},
   "outputs": [
    {
     "name": "stdout",
     "output_type": "stream",
     "text": [
      "reject the null hypothesis\n",
      "the p-value is 0.034\n"
     ]
    }
   ],
   "source": [
    "num_sims = 10_000\n",
    "count = 0\n",
    "alpha = 0.05\n",
    "pooled = np.hstack((data1, data2))\n",
    "for sim in range(num_sims):\n",
    "    data1sample = npr.choice(pooled, len(data1))\n",
    "    data2sample = npr.choice(pooled, len(data2))\n",
    "    avg_sample1 = np.sum(data1sample)/len(data1sample)\n",
    "    avg_sample2 = np.sum(data2sample)/len(data2sample)\n",
    "    diff_sample = np.abs(avg_sample1- avg_sample2)\n",
    "    if diff_sample >= diff:\n",
    "        count +=1\n",
    "pval = count/num_sims\n",
    "if pval > alpha:\n",
    "    print('cannot reject the null hypothesis')\n",
    "else:\n",
    "    print('reject the null hypothesis')\n",
    "print(\"the p-value is\", pval)\n"
   ]
  },
  {
   "cell_type": "markdown",
   "id": "9f4cd83b-1bc2-4657-a28f-bedc4c3df374",
   "metadata": {},
   "source": [
    "<!-- revealed: the first is a fair coin, the second is generated with p(heads) = 0.7-->"
   ]
  },
  {
   "cell_type": "markdown",
   "id": "66e5349c-9d9c-4a2a-b00a-8507a5f381ad",
   "metadata": {},
   "source": [
    "# Problem 5 [Null hypothesis testing and pandas]\n"
   ]
  },
  {
   "cell_type": "markdown",
   "id": "20687ba2-e9e6-4ad0-acab-f0d4b55706d6",
   "metadata": {},
   "source": [
    "This dataset contains data of patients suffering from heart disease. The dataset is obtained from https://www.kaggle.com/ronitf/heart-disease-uci and is uploaded by the user ronit. Variables that can be found in this dataset includes age, sex, chest pain type, resting blood pressure, serum cholesterol, fasting blood sugar level, resting electrocardiographic results, maximum heart rate achieved, exercise induced angina, and ST depression induced by exercise relative to rest, slope of peak exercise ST segment, number of major vessels, Thallium injection, and presence of heart disease. In total, there are 14 different data in which six are ratio, and another eight are nominal type of data as shown in Data Description."
   ]
  },
  {
   "cell_type": "markdown",
   "id": "6018936c-498c-42f4-b629-552fb06a7855",
   "metadata": {},
   "source": [
    "Dataset columns:\n",
    "\n",
    "age: The person’s age in years\n",
    "\n",
    "sex: The person’s sex (1 = male, 0 = female)\n",
    "\n",
    "cp: chest pain type\n",
    "\n",
    "— Value 0: asymptomatic\n",
    "— Value 1: atypical angina\n",
    "— Value 2: non-anginal pain\n",
    "— Value 3: typical angina\n",
    "\n",
    "trestbps: The person’s resting blood pressure (mm Hg on admission to the hospital)\n",
    "\n",
    "chol: The person’s cholesterol measurement in mg/dl\n",
    "\n",
    "fbs: The person’s fasting blood sugar (> 120 mg/dl, 1 = true; 0 = false)\n",
    "\n",
    "restecg: resting electrocardiographic results\n",
    "\n",
    "— Value 0: showing probable or definite left ventricular hypertrophy by Estes’ criteria\n",
    "\n",
    "— Value 1: normal\n",
    "\n",
    "— Value 2: having ST-T wave abnormality (T wave inversions and/or ST elevation or depression of > 0.05 mV)\n",
    "\n",
    "thalach: The person’s maximum heart rate achieved\n",
    "\n",
    "exang: Exercise induced angina (1 = yes; 0 = no)\n",
    "oldpeak: ST depression induced by exercise relative to rest (‘ST’ relates to positions on the ECG plot. See more here)\n",
    "\n",
    "slope: the slope of the peak exercise ST segment — 0: downsloping; 1: flat; 2: upsloping\n",
    "0: downsloping; 1: flat; 2: upsloping\n",
    "\n",
    "ca: The number of major vessels (0–3)\n",
    "\n",
    "thal: A blood disorder called thalassemia Value 0: NULL (dropped from the dataset previously\n",
    "\n",
    "Value 1: fixed defect (no blood flow in some part of the heart)\n",
    "\n",
    "Value 2: normal blood flow\n",
    "\n",
    "Value 3: reversible defect (a blood flow is observed but it is not normal)\n",
    "\n",
    "target: Heart disease (1 = no, 0= yes)"
   ]
  },
  {
   "cell_type": "code",
   "execution_count": 11,
   "id": "0f4a749c-2986-40e2-a264-22a579500a14",
   "metadata": {},
   "outputs": [
    {
     "data": {
      "text/plain": [
       "Index(['age', 'sex', 'cp', 'trestbps', 'chol', 'fbs', 'restecg', 'thalach',\n",
       "       'exang', 'oldpeak', 'slope', 'ca', 'thal', 'target'],\n",
       "      dtype='object')"
      ]
     },
     "execution_count": 11,
     "metadata": {},
     "output_type": "execute_result"
    }
   ],
   "source": [
    "# Read the data file 'heart.csv' as a dataframe object\n",
    "df = pd.read_csv('heart.csv')\n",
    "df.columns"
   ]
  },
  {
   "cell_type": "code",
   "execution_count": null,
   "id": "091b09a7-c6c1-4777-9f77-e7b9d7262553",
   "metadata": {},
   "outputs": [],
   "source": [
    "# print out the columns of the dataframe\n"
   ]
  },
  {
   "cell_type": "code",
   "execution_count": 12,
   "id": "15bc8c1a-7651-4d24-9dac-224d4cadfe0e",
   "metadata": {},
   "outputs": [
    {
     "data": {
      "text/html": [
       "<div>\n",
       "<style scoped>\n",
       "    .dataframe tbody tr th:only-of-type {\n",
       "        vertical-align: middle;\n",
       "    }\n",
       "\n",
       "    .dataframe tbody tr th {\n",
       "        vertical-align: top;\n",
       "    }\n",
       "\n",
       "    .dataframe thead th {\n",
       "        text-align: right;\n",
       "    }\n",
       "</style>\n",
       "<table border=\"1\" class=\"dataframe\">\n",
       "  <thead>\n",
       "    <tr style=\"text-align: right;\">\n",
       "      <th></th>\n",
       "      <th>age</th>\n",
       "      <th>sex</th>\n",
       "      <th>cp</th>\n",
       "      <th>trestbps</th>\n",
       "      <th>chol</th>\n",
       "      <th>fbs</th>\n",
       "      <th>restecg</th>\n",
       "      <th>thalach</th>\n",
       "      <th>exang</th>\n",
       "      <th>oldpeak</th>\n",
       "      <th>slope</th>\n",
       "      <th>ca</th>\n",
       "      <th>thal</th>\n",
       "      <th>target</th>\n",
       "    </tr>\n",
       "  </thead>\n",
       "  <tbody>\n",
       "    <tr>\n",
       "      <th>2</th>\n",
       "      <td>70</td>\n",
       "      <td>1</td>\n",
       "      <td>0</td>\n",
       "      <td>145</td>\n",
       "      <td>174</td>\n",
       "      <td>0</td>\n",
       "      <td>1</td>\n",
       "      <td>125</td>\n",
       "      <td>1</td>\n",
       "      <td>2.6</td>\n",
       "      <td>0</td>\n",
       "      <td>0</td>\n",
       "      <td>3</td>\n",
       "      <td>0</td>\n",
       "    </tr>\n",
       "    <tr>\n",
       "      <th>3</th>\n",
       "      <td>61</td>\n",
       "      <td>1</td>\n",
       "      <td>0</td>\n",
       "      <td>148</td>\n",
       "      <td>203</td>\n",
       "      <td>0</td>\n",
       "      <td>1</td>\n",
       "      <td>161</td>\n",
       "      <td>0</td>\n",
       "      <td>0.0</td>\n",
       "      <td>2</td>\n",
       "      <td>1</td>\n",
       "      <td>3</td>\n",
       "      <td>0</td>\n",
       "    </tr>\n",
       "    <tr>\n",
       "      <th>4</th>\n",
       "      <td>62</td>\n",
       "      <td>0</td>\n",
       "      <td>0</td>\n",
       "      <td>138</td>\n",
       "      <td>294</td>\n",
       "      <td>1</td>\n",
       "      <td>1</td>\n",
       "      <td>106</td>\n",
       "      <td>0</td>\n",
       "      <td>1.9</td>\n",
       "      <td>1</td>\n",
       "      <td>3</td>\n",
       "      <td>2</td>\n",
       "      <td>0</td>\n",
       "    </tr>\n",
       "    <tr>\n",
       "      <th>5</th>\n",
       "      <td>58</td>\n",
       "      <td>0</td>\n",
       "      <td>0</td>\n",
       "      <td>100</td>\n",
       "      <td>248</td>\n",
       "      <td>0</td>\n",
       "      <td>0</td>\n",
       "      <td>122</td>\n",
       "      <td>0</td>\n",
       "      <td>1.0</td>\n",
       "      <td>1</td>\n",
       "      <td>0</td>\n",
       "      <td>2</td>\n",
       "      <td>1</td>\n",
       "    </tr>\n",
       "    <tr>\n",
       "      <th>6</th>\n",
       "      <td>58</td>\n",
       "      <td>1</td>\n",
       "      <td>0</td>\n",
       "      <td>114</td>\n",
       "      <td>318</td>\n",
       "      <td>0</td>\n",
       "      <td>2</td>\n",
       "      <td>140</td>\n",
       "      <td>0</td>\n",
       "      <td>4.4</td>\n",
       "      <td>0</td>\n",
       "      <td>3</td>\n",
       "      <td>1</td>\n",
       "      <td>0</td>\n",
       "    </tr>\n",
       "  </tbody>\n",
       "</table>\n",
       "</div>"
      ],
      "text/plain": [
       "   age  sex  cp  trestbps  chol  fbs  restecg  thalach  exang  oldpeak  slope  \\\n",
       "2   70    1   0       145   174    0        1      125      1      2.6      0   \n",
       "3   61    1   0       148   203    0        1      161      0      0.0      2   \n",
       "4   62    0   0       138   294    1        1      106      0      1.9      1   \n",
       "5   58    0   0       100   248    0        0      122      0      1.0      1   \n",
       "6   58    1   0       114   318    0        2      140      0      4.4      0   \n",
       "\n",
       "   ca  thal  target  \n",
       "2   0     3       0  \n",
       "3   1     3       0  \n",
       "4   3     2       0  \n",
       "5   0     2       1  \n",
       "6   3     1       0  "
      ]
     },
     "execution_count": 12,
     "metadata": {},
     "output_type": "execute_result"
    }
   ],
   "source": [
    "# obtain mean and median of blooed preseure the patient aged above 55\n",
    "over55 = df.query('age > 55')\n",
    "over55.head()"
   ]
  },
  {
   "cell_type": "code",
   "execution_count": 13,
   "id": "af0532a4-764d-4cfe-b17c-8e413756e12e",
   "metadata": {},
   "outputs": [
    {
     "name": "stdout",
     "output_type": "stream",
     "text": [
      "136.23699421965318 134.0\n"
     ]
    }
   ],
   "source": [
    "over55mean = over55['trestbps'].mean()\n",
    "over55median = over55['trestbps'].median()\n",
    "print(over55mean, over55median)"
   ]
  },
  {
   "cell_type": "markdown",
   "id": "69fcab18-f969-4704-a290-7d74a75abf42",
   "metadata": {},
   "source": [
    "Plot the age distribution of patients with heart disease"
   ]
  },
  {
   "cell_type": "code",
   "execution_count": 14,
   "id": "ae3fb432-b1ca-42c5-8cb1-c62337ec620e",
   "metadata": {},
   "outputs": [
    {
     "data": {
      "text/html": [
       "<div>\n",
       "<style scoped>\n",
       "    .dataframe tbody tr th:only-of-type {\n",
       "        vertical-align: middle;\n",
       "    }\n",
       "\n",
       "    .dataframe tbody tr th {\n",
       "        vertical-align: top;\n",
       "    }\n",
       "\n",
       "    .dataframe thead th {\n",
       "        text-align: right;\n",
       "    }\n",
       "</style>\n",
       "<table border=\"1\" class=\"dataframe\">\n",
       "  <thead>\n",
       "    <tr style=\"text-align: right;\">\n",
       "      <th></th>\n",
       "      <th>age</th>\n",
       "      <th>sex</th>\n",
       "      <th>cp</th>\n",
       "      <th>trestbps</th>\n",
       "      <th>chol</th>\n",
       "      <th>fbs</th>\n",
       "      <th>restecg</th>\n",
       "      <th>thalach</th>\n",
       "      <th>exang</th>\n",
       "      <th>oldpeak</th>\n",
       "      <th>slope</th>\n",
       "      <th>ca</th>\n",
       "      <th>thal</th>\n",
       "      <th>target</th>\n",
       "    </tr>\n",
       "  </thead>\n",
       "  <tbody>\n",
       "    <tr>\n",
       "      <th>5</th>\n",
       "      <td>58</td>\n",
       "      <td>0</td>\n",
       "      <td>0</td>\n",
       "      <td>100</td>\n",
       "      <td>248</td>\n",
       "      <td>0</td>\n",
       "      <td>0</td>\n",
       "      <td>122</td>\n",
       "      <td>0</td>\n",
       "      <td>1.0</td>\n",
       "      <td>1</td>\n",
       "      <td>0</td>\n",
       "      <td>2</td>\n",
       "      <td>1</td>\n",
       "    </tr>\n",
       "    <tr>\n",
       "      <th>10</th>\n",
       "      <td>71</td>\n",
       "      <td>0</td>\n",
       "      <td>0</td>\n",
       "      <td>112</td>\n",
       "      <td>149</td>\n",
       "      <td>0</td>\n",
       "      <td>1</td>\n",
       "      <td>125</td>\n",
       "      <td>0</td>\n",
       "      <td>1.6</td>\n",
       "      <td>1</td>\n",
       "      <td>0</td>\n",
       "      <td>2</td>\n",
       "      <td>1</td>\n",
       "    </tr>\n",
       "    <tr>\n",
       "      <th>12</th>\n",
       "      <td>34</td>\n",
       "      <td>0</td>\n",
       "      <td>1</td>\n",
       "      <td>118</td>\n",
       "      <td>210</td>\n",
       "      <td>0</td>\n",
       "      <td>1</td>\n",
       "      <td>192</td>\n",
       "      <td>0</td>\n",
       "      <td>0.7</td>\n",
       "      <td>2</td>\n",
       "      <td>0</td>\n",
       "      <td>2</td>\n",
       "      <td>1</td>\n",
       "    </tr>\n",
       "    <tr>\n",
       "      <th>15</th>\n",
       "      <td>34</td>\n",
       "      <td>0</td>\n",
       "      <td>1</td>\n",
       "      <td>118</td>\n",
       "      <td>210</td>\n",
       "      <td>0</td>\n",
       "      <td>1</td>\n",
       "      <td>192</td>\n",
       "      <td>0</td>\n",
       "      <td>0.7</td>\n",
       "      <td>2</td>\n",
       "      <td>0</td>\n",
       "      <td>2</td>\n",
       "      <td>1</td>\n",
       "    </tr>\n",
       "    <tr>\n",
       "      <th>16</th>\n",
       "      <td>51</td>\n",
       "      <td>0</td>\n",
       "      <td>2</td>\n",
       "      <td>140</td>\n",
       "      <td>308</td>\n",
       "      <td>0</td>\n",
       "      <td>0</td>\n",
       "      <td>142</td>\n",
       "      <td>0</td>\n",
       "      <td>1.5</td>\n",
       "      <td>2</td>\n",
       "      <td>1</td>\n",
       "      <td>2</td>\n",
       "      <td>1</td>\n",
       "    </tr>\n",
       "  </tbody>\n",
       "</table>\n",
       "</div>"
      ],
      "text/plain": [
       "    age  sex  cp  trestbps  chol  fbs  restecg  thalach  exang  oldpeak  \\\n",
       "5    58    0   0       100   248    0        0      122      0      1.0   \n",
       "10   71    0   0       112   149    0        1      125      0      1.6   \n",
       "12   34    0   1       118   210    0        1      192      0      0.7   \n",
       "15   34    0   1       118   210    0        1      192      0      0.7   \n",
       "16   51    0   2       140   308    0        0      142      0      1.5   \n",
       "\n",
       "    slope  ca  thal  target  \n",
       "5       1   0     2       1  \n",
       "10      1   0     2       1  \n",
       "12      2   0     2       1  \n",
       "15      2   0     2       1  \n",
       "16      2   1     2       1  "
      ]
     },
     "execution_count": 14,
     "metadata": {},
     "output_type": "execute_result"
    }
   ],
   "source": [
    "patients = df.query('target==1')\n",
    "patients.head()"
   ]
  },
  {
   "cell_type": "code",
   "execution_count": 15,
   "id": "63e6c938-8a09-428c-95ab-975a55ddb7a9",
   "metadata": {},
   "outputs": [
    {
     "data": {
      "text/plain": [
       "(array([ 4., 28., 79., 67., 90., 98., 52., 67., 35.,  6.]),\n",
       " array([29. , 33.7, 38.4, 43.1, 47.8, 52.5, 57.2, 61.9, 66.6, 71.3, 76. ]),\n",
       " <BarContainer object of 10 artists>)"
      ]
     },
     "execution_count": 15,
     "metadata": {},
     "output_type": "execute_result"
    },
    {
     "data": {
      "image/png": "[encoded data removed]",
      "text/plain": [
       "<Figure size 640x480 with 1 Axes>"
      ]
     },
     "metadata": {},
     "output_type": "display_data"
    }
   ],
   "source": [
    "plt.hist(patients['age'])"
   ]
  },
  {
   "cell_type": "markdown",
   "id": "cbcd6a06-6525-49e6-9f4e-55aa0cc53e58",
   "metadata": {},
   "source": [
    "The 'target' columns has entries 0, or 1 indicating if the person has heart disease or not\n",
    "Plot two box plots on the same figure of the cholesterol levels 'chol'"
   ]
  },
  {
   "cell_type": "code",
   "execution_count": 16,
   "id": "e2857e9c-949c-4af4-a24d-edd680c43a3f",
   "metadata": {},
   "outputs": [],
   "source": [
    "healthy = df.query('target ==0')"
   ]
  },
  {
   "cell_type": "markdown",
   "id": "30dc929e-1ea7-4cbb-8c5d-e56281012427",
   "metadata": {},
   "source": [
    "The 'target' columns has entries 0, or 1 indicating if the person has heart disease or not\n",
    "Plot two box plots on the same figure of the cholesterol levels 'mean blood pressure' for patient with disease and patient without disease"
   ]
  },
  {
   "cell_type": "code",
   "execution_count": 21,
   "id": "b7ad1841-faf7-4240-8293-5788d7b7f9a3",
   "metadata": {},
   "outputs": [
    {
     "data": {
      "text/plain": [
       "Text(0.5, 1.0, 'Cholesterol levels of healthy person')"
      ]
     },
     "execution_count": 21,
     "metadata": {},
     "output_type": "execute_result"
    },
    {
     "data": {
      "image/png": "[encoded data removed]",
      "text/plain": [
       "<Figure size 1200x600 with 2 Axes>"
      ]
     },
     "metadata": {},
     "output_type": "display_data"
    }
   ],
   "source": [
    "fig, axes = plt.subplots(nrows=1, ncols =2, figsize = (12, 6))\n",
    "axes[0].boxplot(patients['chol'])\n",
    "axes[0].set_title('Cholesterol levels of patients')\n",
    "\n",
    "\n",
    "axes[1].boxplot(healthy['chol'])\n",
    "axes[1].set_title('Cholesterol levels of healthy person')\n"
   ]
  },
  {
   "cell_type": "markdown",
   "id": "808bd905-3fa9-4a95-ac94-9a7bf9ed7691",
   "metadata": {},
   "source": [
    "The hypothesis testing is done to test if there are any difference between the mean blood pressure of patients aged above 55 and mean blood pressure of patients aged 55 and below. The null hypothesis is the mean between the two groups are the same and the alternative hypothesis is the mean has different values. The significance level for this test is 0.05."
   ]
  },
  {
   "cell_type": "code",
   "execution_count": 26,
   "id": "b0b1d8b6-2840-4d5d-950d-0c1b7cf31bdc",
   "metadata": {},
   "outputs": [
    {
     "data": {
      "text/plain": [
       "array([100, 112, 140, 106, 135, 138, 128, 160, 146, 150, 120, 146, 150,\n",
       "       140, 124, 128, 128, 140, 150, 140, 150, 120, 140, 150, 180, 115,\n",
       "       120, 120, 110, 130, 115, 160, 150, 102, 124, 170, 146, 110, 120,\n",
       "       170, 140, 180, 120, 110, 160, 132, 110, 110, 140, 160, 120, 150,\n",
       "       150, 140, 120, 140, 135, 140, 150, 155, 120, 110, 130, 105, 160,\n",
       "       140, 130, 145, 146, 160, 145, 112, 156, 140, 124, 160, 128, 120,\n",
       "       150, 102, 120, 150, 160, 115, 150, 150, 140, 130, 150, 150, 128,\n",
       "       150, 135, 112, 125, 152, 124, 178, 160, 155, 140, 170, 140, 106,\n",
       "       118, 130, 155, 140, 120, 140, 140, 120, 140, 110, 178, 140, 120,\n",
       "       130, 128, 120, 130, 112, 150, 138, 100, 150, 140, 118, 105, 140,\n",
       "       160, 110, 140, 120, 130, 150, 156, 152, 120, 120, 130, 125, 102,\n",
       "       125, 160, 120, 160, 130, 150, 110, 130, 120, 120, 128, 145, 130,\n",
       "       128, 105, 156, 135, 125, 118, 150, 120, 120, 150, 120, 120, 170,\n",
       "       140, 138, 132, 110, 180, 178, 135, 120, 140, 120, 120, 152, 132,\n",
       "       130, 140, 140, 100, 140, 120, 140, 106, 128, 135, 130, 160, 120,\n",
       "       140, 120, 140, 118, 118, 140, 120, 104, 120, 130, 120, 129, 125,\n",
       "       120, 132, 140, 135, 138, 130, 130, 130, 130, 120, 138, 124, 134,\n",
       "       134, 138, 120, 120, 108, 138, 122, 108, 138, 118, 142, 130, 120,\n",
       "       108, 130, 138, 130, 135, 129, 108, 132, 138, 110, 118, 112, 120,\n",
       "       152, 140, 120, 108, 140, 120, 120, 100, 130, 112, 150,  94, 130,\n",
       "       128, 112, 115, 118, 152, 148, 112, 138, 120, 130, 128, 130, 120,\n",
       "        94, 140, 150, 118, 128, 126, 130, 132, 138, 125, 130, 138, 130,\n",
       "       112, 138, 120, 150, 122, 132, 104, 110, 120, 138, 130, 105, 130,\n",
       "       122, 130, 138, 122, 120, 105,  94, 132, 136, 118, 120, 140, 148,\n",
       "       128, 130, 130, 130, 128, 120, 130, 110, 125, 138, 120, 172, 120,\n",
       "       108, 138, 128, 122, 122, 130, 130, 110, 110, 142, 118, 110, 120,\n",
       "       110, 105, 138, 105, 130, 125, 138, 102, 160, 130, 112, 130, 130,\n",
       "       128, 130, 120, 134, 134, 138, 150, 140, 124, 118, 110, 138, 130,\n",
       "       130, 140, 122, 132, 125, 140, 142, 138, 142, 130, 118, 130, 132,\n",
       "       120, 105, 130, 138, 108, 120, 120, 140, 125, 120, 130, 122,  94,\n",
       "       120, 138, 110, 130, 160, 120, 135, 118, 150, 152, 101, 140, 130,\n",
       "       140, 138, 130, 120, 115, 126, 130, 130, 130, 130, 138, 120, 130,\n",
       "       120, 126, 110, 138, 112, 122, 130, 120, 112, 120, 135, 135, 120,\n",
       "       130,  94, 112, 125, 135, 108, 115, 135, 120,  94, 108, 129, 140,\n",
       "       112, 100, 120, 130, 130, 130, 124, 105, 130, 101, 135, 138, 130,\n",
       "       100, 118, 150, 135, 115, 142, 130,  94, 110, 115, 148, 140, 130,\n",
       "       130, 100, 138, 172, 125, 140, 138, 138, 130, 101, 115, 112, 110,\n",
       "       130, 140, 122, 134, 102, 102, 130, 140, 120, 104, 130, 120, 140,\n",
       "       120, 140, 130, 130, 142, 134, 136, 160, 135, 138, 130, 130, 136,\n",
       "       108, 108, 120, 138, 172, 118, 125, 110, 128, 110, 120, 140, 108,\n",
       "       140, 120, 128, 108, 112, 110])"
      ]
     },
     "execution_count": 26,
     "metadata": {},
     "output_type": "execute_result"
    }
   ],
   "source": [
    "pooled = np.hstack((patient_above, patient_below))\n",
    "pooled"
   ]
  },
  {
   "cell_type": "code",
   "execution_count": 29,
   "id": "14f19594-ba0b-420c-836e-07acefb34d20",
   "metadata": {},
   "outputs": [
    {
     "name": "stdout",
     "output_type": "stream",
     "text": [
      "observed difference 8.79129711751662\n",
      "0\n",
      "reject the null hypothesis\n",
      "the p-value is 0.0\n"
     ]
    }
   ],
   "source": [
    "num_sims = 10_000\n",
    "count = 0\n",
    "alpha = 0.05\n",
    "patient_above= df.query('age >55 & target ==1')['trestbps']\n",
    "patient_below= df.query('age <= 55 & target ==1')['trestbps']\n",
    "len_above = len(patient_above)\n",
    "len_below = len(patient_below)\n",
    "pooled = np.hstack((patient_above, patient_below))\n",
    "diff = np.abs(patient_above.mean() - patient_below.mean())\n",
    "print('observed difference', diff)\n",
    "for sim in range(num_sims):\n",
    "    data1sample = npr.choice(pooled, len_above)\n",
    "    data2sample = npr.choice(pooled, len_below)\n",
    "    diff_sample = np.abs(data1sample.mean()- data2sample.mean())\n",
    "    if diff_sample >= diff:\n",
    "        count +=1\n",
    "pval = count/num_sims\n",
    "print(count)\n",
    "if pval > alpha:\n",
    "    print('cannot reject the null hypothesis')\n",
    "else:\n",
    "    print('reject the null hypothesis')\n",
    "print(\"the p-value is\", pval)"
   ]
  }
 ],
 "metadata": {
  "kernelspec": {
   "display_name": "Python 3 (ipykernel)",
   "language": "python",
   "name": "python3"
  },
  "language_info": {
   "codemirror_mode": {
    "name": "ipython",
    "version": 3
   },
   "file_extension": ".py",
   "mimetype": "text/x-python",
   "name": "python",
   "nbconvert_exporter": "python",
   "pygments_lexer": "ipython3",
   "version": "3.9.13"
  }
 },
 "nbformat": 4,
 "nbformat_minor": 5
}
