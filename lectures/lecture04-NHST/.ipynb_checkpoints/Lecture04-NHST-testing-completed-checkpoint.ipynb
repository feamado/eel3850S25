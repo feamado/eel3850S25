{
 "cells": [
  {
   "cell_type": "markdown",
   "metadata": {},
   "source": [
    "# Lecture 04\n",
    "\n",
    "Continue with the covid data set for:\n",
    "\n",
    "* Bootstrap Sampling\n",
    "* Hypothesis Testing\n"
   ]
  },
  {
   "cell_type": "code",
   "execution_count": 1,
   "metadata": {},
   "outputs": [],
   "source": [
    "import numpy as np\n",
    "import numpy.random as npr\n",
    "import random\n",
    "import itertools\n",
    "\n",
    "import pandas as pd\n",
    "\n",
    "import matplotlib.pyplot as plt\n",
    "%matplotlib inline\n",
    "plt.style.use('ggplot')"
   ]
  },
  {
   "cell_type": "markdown",
   "metadata": {
    "user_expressions": []
   },
   "source": [
    "## Visualizing Multiple Data Sets"
   ]
  },
  {
   "cell_type": "code",
   "execution_count": 2,
   "metadata": {
    "tags": []
   },
   "outputs": [],
   "source": [
    "import pandas as pd\n",
    "\n",
    "df = pd.read_csv( './covid-merged.csv' ) # INPUT THE FILE\n",
    "df.set_index('state', inplace=True) # USING STATE TO INDEX THE DATA"
   ]
  },
  {
   "cell_type": "code",
   "execution_count": 3,
   "metadata": {},
   "outputs": [
    {
     "data": {
      "text/html": [
       "<div>\n",
       "<style scoped>\n",
       "    .dataframe tbody tr th:only-of-type {\n",
       "        vertical-align: middle;\n",
       "    }\n",
       "\n",
       "    .dataframe tbody tr th {\n",
       "        vertical-align: top;\n",
       "    }\n",
       "\n",
       "    .dataframe thead th {\n",
       "        text-align: right;\n",
       "    }\n",
       "</style>\n",
       "<table border=\"1\" class=\"dataframe\">\n",
       "  <thead>\n",
       "    <tr style=\"text-align: right;\">\n",
       "      <th></th>\n",
       "      <th>cases</th>\n",
       "      <th>population</th>\n",
       "      <th>gdp</th>\n",
       "      <th>urban</th>\n",
       "      <th>cases_norm</th>\n",
       "      <th>gdp_norm</th>\n",
       "    </tr>\n",
       "    <tr>\n",
       "      <th>state</th>\n",
       "      <th></th>\n",
       "      <th></th>\n",
       "      <th></th>\n",
       "      <th></th>\n",
       "      <th></th>\n",
       "      <th></th>\n",
       "    </tr>\n",
       "  </thead>\n",
       "  <tbody>\n",
       "    <tr>\n",
       "      <th>Alabama</th>\n",
       "      <td>7068</td>\n",
       "      <td>4903185</td>\n",
       "      <td>230750.1</td>\n",
       "      <td>59.04</td>\n",
       "      <td>1.441512</td>\n",
       "      <td>47.061267</td>\n",
       "    </tr>\n",
       "    <tr>\n",
       "      <th>Alaska</th>\n",
       "      <td>353</td>\n",
       "      <td>731545</td>\n",
       "      <td>54674.7</td>\n",
       "      <td>66.02</td>\n",
       "      <td>0.482540</td>\n",
       "      <td>74.738670</td>\n",
       "    </tr>\n",
       "    <tr>\n",
       "      <th>Arizona</th>\n",
       "      <td>7648</td>\n",
       "      <td>7278717</td>\n",
       "      <td>379018.8</td>\n",
       "      <td>89.81</td>\n",
       "      <td>1.050735</td>\n",
       "      <td>52.072199</td>\n",
       "    </tr>\n",
       "    <tr>\n",
       "      <th>Arkansas</th>\n",
       "      <td>3281</td>\n",
       "      <td>3017804</td>\n",
       "      <td>132596.4</td>\n",
       "      <td>56.16</td>\n",
       "      <td>1.087214</td>\n",
       "      <td>43.938042</td>\n",
       "    </tr>\n",
       "    <tr>\n",
       "      <th>California</th>\n",
       "      <td>50470</td>\n",
       "      <td>39512223</td>\n",
       "      <td>3205000.1</td>\n",
       "      <td>94.95</td>\n",
       "      <td>1.277326</td>\n",
       "      <td>81.114143</td>\n",
       "    </tr>\n",
       "  </tbody>\n",
       "</table>\n",
       "</div>"
      ],
      "text/plain": [
       "            cases  population        gdp  urban  cases_norm   gdp_norm\n",
       "state                                                                 \n",
       "Alabama      7068     4903185   230750.1  59.04    1.441512  47.061267\n",
       "Alaska        353      731545    54674.7  66.02    0.482540  74.738670\n",
       "Arizona      7648     7278717   379018.8  89.81    1.050735  52.072199\n",
       "Arkansas     3281     3017804   132596.4  56.16    1.087214  43.938042\n",
       "California  50470    39512223  3205000.1  94.95    1.277326  81.114143"
      ]
     },
     "execution_count": 3,
     "metadata": {},
     "output_type": "execute_result"
    }
   ],
   "source": [
    "# Normalize the data so avoid bias -- high case number is often due to high population\n",
    "df['cases_norm'] = df['cases'] / df['population'] * 1000 \n",
    "df['gdp_norm'] = df['gdp'] / df['population'] * 1000 \n",
    "df.head()"
   ]
  },
  {
   "cell_type": "markdown",
   "metadata": {},
   "source": [
    "# Key Concepts in Hypothesis Testing:\n",
    "\n",
    "**Null Hypothesis ($H_0$):**\n",
    "* This is the default or baseline assumption.\n",
    "* It often states that there is no effect, no difference, or no relationship in the population.\n",
    "* Example: \n",
    "1. The coin is a fair coin.\n",
    "2. \"The average COVID infection rate is  **NOT** related to GDP (Gross Domestic Product) of the state. ”\n",
    "\n",
    "**Alternative Hypothesis ($H_1$):**\n",
    "* This represents the statement you want to test.\n",
    "* It is the opposite of the null hypothesis.\n",
    "\n",
    "* Example: \n",
    "1. The coin is **NOT** a fair coin.\n",
    "2. \"The average COVID infection rate is related to GDP (Gross Domestic Product) of the state. ”\n",
    "\n",
    "**Test statistics**\n",
    " A value calculated from the sample data that summarizes the evidence against the null hypothesis.\n",
    "\n",
    "e.g. \n",
    "\n",
    "1. The number of heads in the repeated coin flips.\n",
    "2. To define next.\n",
    " \n",
    "**P-value:** \n",
    "The probability of observing a test statistic as extreme as, or more extreme than, the one calculated from the sample data, assuming $H_0$ is true.\n",
    "\n",
    "**Choose a Significance Level ($\\alpha$):**\n",
    "Commonly set at 0.05.\n",
    "\n",
    "**Decision: To reject the null hypothesis or not**\n",
    "* Reject $H_0$ if p-value < $\\alpha$.\n",
    "* Otherwise, fail to reject $H_0$."
   ]
  },
  {
   "cell_type": "code",
   "execution_count": null,
   "metadata": {},
   "outputs": [],
   "source": []
  },
  {
   "cell_type": "markdown",
   "metadata": {
    "user_expressions": []
   },
   "source": [
    "### Partitioning Based on GDP\n",
    "\n",
    "The gross domestic product (GDP) provides a measure of how affluent a state is. Let's use it to partition into groups of equal size -- so we will use the ______\n"
   ]
  },
  {
   "cell_type": "code",
   "execution_count": 4,
   "metadata": {
    "tags": []
   },
   "outputs": [
    {
     "data": {
      "text/plain": [
       "61.04737129841516"
      ]
     },
     "execution_count": 4,
     "metadata": {},
     "output_type": "execute_result"
    }
   ],
   "source": [
    "m_gdp = df['gdp_norm'].median() # this is the average GDP, 50% of the states fall below this.\n",
    "m_gdp"
   ]
  },
  {
   "cell_type": "code",
   "execution_count": null,
   "metadata": {},
   "outputs": [],
   "source": [
    "\n"
   ]
  },
  {
   "cell_type": "markdown",
   "metadata": {
    "user_expressions": []
   },
   "source": [
    "To partition the data, we introduce a new dataframe method called `query()` "
   ]
  },
  {
   "cell_type": "code",
   "execution_count": 5,
   "metadata": {
    "tags": []
   },
   "outputs": [
    {
     "name": "stdout",
     "output_type": "stream",
     "text": [
      "Help on method query in module pandas.core.frame:\n",
      "\n",
      "query(expr: 'str', inplace: 'bool' = False, **kwargs) method of pandas.core.frame.DataFrame instance\n",
      "    Query the columns of a DataFrame with a boolean expression.\n",
      "    \n",
      "    Parameters\n",
      "    ----------\n",
      "    expr : str\n",
      "        The query string to evaluate.\n",
      "    \n",
      "        You can refer to variables\n",
      "        in the environment by prefixing them with an '@' character like\n",
      "        ``@a + b``.\n",
      "    \n",
      "        You can refer to column names that are not valid Python variable names\n",
      "        by surrounding them in backticks. Thus, column names containing spaces\n",
      "        or punctuations (besides underscores) or starting with digits must be\n",
      "        surrounded by backticks. (For example, a column named \"Area (cm^2)\" would\n",
      "        be referenced as ```Area (cm^2)```). Column names which are Python keywords\n",
      "        (like \"list\", \"for\", \"import\", etc) cannot be used.\n",
      "    \n",
      "        For example, if one of your columns is called ``a a`` and you want\n",
      "        to sum it with ``b``, your query should be ```a a` + b``.\n",
      "    \n",
      "        .. versionadded:: 0.25.0\n",
      "            Backtick quoting introduced.\n",
      "    \n",
      "        .. versionadded:: 1.0.0\n",
      "            Expanding functionality of backtick quoting for more than only spaces.\n",
      "    \n",
      "    inplace : bool\n",
      "        Whether the query should modify the data in place or return\n",
      "        a modified copy.\n",
      "    **kwargs\n",
      "        See the documentation for :func:`eval` for complete details\n",
      "        on the keyword arguments accepted by :meth:`DataFrame.query`.\n",
      "    \n",
      "    Returns\n",
      "    -------\n",
      "    DataFrame or None\n",
      "        DataFrame resulting from the provided query expression or\n",
      "        None if ``inplace=True``.\n",
      "    \n",
      "    See Also\n",
      "    --------\n",
      "    eval : Evaluate a string describing operations on\n",
      "        DataFrame columns.\n",
      "    DataFrame.eval : Evaluate a string describing operations on\n",
      "        DataFrame columns.\n",
      "    \n",
      "    Notes\n",
      "    -----\n",
      "    The result of the evaluation of this expression is first passed to\n",
      "    :attr:`DataFrame.loc` and if that fails because of a\n",
      "    multidimensional key (e.g., a DataFrame) then the result will be passed\n",
      "    to :meth:`DataFrame.__getitem__`.\n",
      "    \n",
      "    This method uses the top-level :func:`eval` function to\n",
      "    evaluate the passed query.\n",
      "    \n",
      "    The :meth:`~pandas.DataFrame.query` method uses a slightly\n",
      "    modified Python syntax by default. For example, the ``&`` and ``|``\n",
      "    (bitwise) operators have the precedence of their boolean cousins,\n",
      "    :keyword:`and` and :keyword:`or`. This *is* syntactically valid Python,\n",
      "    however the semantics are different.\n",
      "    \n",
      "    You can change the semantics of the expression by passing the keyword\n",
      "    argument ``parser='python'``. This enforces the same semantics as\n",
      "    evaluation in Python space. Likewise, you can pass ``engine='python'``\n",
      "    to evaluate an expression using Python itself as a backend. This is not\n",
      "    recommended as it is inefficient compared to using ``numexpr`` as the\n",
      "    engine.\n",
      "    \n",
      "    The :attr:`DataFrame.index` and\n",
      "    :attr:`DataFrame.columns` attributes of the\n",
      "    :class:`~pandas.DataFrame` instance are placed in the query namespace\n",
      "    by default, which allows you to treat both the index and columns of the\n",
      "    frame as a column in the frame.\n",
      "    The identifier ``index`` is used for the frame index; you can also\n",
      "    use the name of the index to identify it in a query. Please note that\n",
      "    Python keywords may not be used as identifiers.\n",
      "    \n",
      "    For further details and examples see the ``query`` documentation in\n",
      "    :ref:`indexing <indexing.query>`.\n",
      "    \n",
      "    *Backtick quoted variables*\n",
      "    \n",
      "    Backtick quoted variables are parsed as literal Python code and\n",
      "    are converted internally to a Python valid identifier.\n",
      "    This can lead to the following problems.\n",
      "    \n",
      "    During parsing a number of disallowed characters inside the backtick\n",
      "    quoted string are replaced by strings that are allowed as a Python identifier.\n",
      "    These characters include all operators in Python, the space character, the\n",
      "    question mark, the exclamation mark, the dollar sign, and the euro sign.\n",
      "    For other characters that fall outside the ASCII range (U+0001..U+007F)\n",
      "    and those that are not further specified in PEP 3131,\n",
      "    the query parser will raise an error.\n",
      "    This excludes whitespace different than the space character,\n",
      "    but also the hashtag (as it is used for comments) and the backtick\n",
      "    itself (backtick can also not be escaped).\n",
      "    \n",
      "    In a special case, quotes that make a pair around a backtick can\n",
      "    confuse the parser.\n",
      "    For example, ```it's` > `that's``` will raise an error,\n",
      "    as it forms a quoted string (``'s > `that'``) with a backtick inside.\n",
      "    \n",
      "    See also the Python documentation about lexical analysis\n",
      "    (https://docs.python.org/3/reference/lexical_analysis.html)\n",
      "    in combination with the source code in :mod:`pandas.core.computation.parsing`.\n",
      "    \n",
      "    Examples\n",
      "    --------\n",
      "    >>> df = pd.DataFrame({'A': range(1, 6),\n",
      "    ...                    'B': range(10, 0, -2),\n",
      "    ...                    'C C': range(10, 5, -1)})\n",
      "    >>> df\n",
      "       A   B  C C\n",
      "    0  1  10   10\n",
      "    1  2   8    9\n",
      "    2  3   6    8\n",
      "    3  4   4    7\n",
      "    4  5   2    6\n",
      "    >>> df.query('A > B')\n",
      "       A  B  C C\n",
      "    4  5  2    6\n",
      "    \n",
      "    The previous expression is equivalent to\n",
      "    \n",
      "    >>> df[df.A > df.B]\n",
      "       A  B  C C\n",
      "    4  5  2    6\n",
      "    \n",
      "    For columns with spaces in their name, you can use backtick quoting.\n",
      "    \n",
      "    >>> df.query('B == `C C`')\n",
      "       A   B  C C\n",
      "    0  1  10   10\n",
      "    \n",
      "    The previous expression is equivalent to\n",
      "    \n",
      "    >>> df[df.B == df['C C']]\n",
      "       A   B  C C\n",
      "    0  1  10   10\n",
      "\n"
     ]
    }
   ],
   "source": [
    "#DEMO\n",
    "help(df.query)"
   ]
  },
  {
   "cell_type": "code",
   "execution_count": 6,
   "metadata": {},
   "outputs": [],
   "source": [
    "lower_gdp= df.query('gdp_norm< @m_gdp')\n",
    "lower_gdp.head()\n",
    "higher_gdp =df.query('gdp_norm >= @m_gdp')"
   ]
  },
  {
   "cell_type": "code",
   "execution_count": 7,
   "metadata": {},
   "outputs": [
    {
     "data": {
      "text/plain": [
       "(25, 25)"
      ]
     },
     "execution_count": 7,
     "metadata": {},
     "output_type": "execute_result"
    }
   ],
   "source": [
    "#DEMO\n",
    "len(lower_gdp), len(higher_gdp)"
   ]
  },
  {
   "cell_type": "code",
   "execution_count": 8,
   "metadata": {},
   "outputs": [
    {
     "data": {
      "text/plain": [
       "Text(0, 0.5, 'count')"
      ]
     },
     "execution_count": 8,
     "metadata": {},
     "output_type": "execute_result"
    },
    {
     "data": {
      "image/png": "[encoded data removed]",
      "text/plain": [
       "<Figure size 640x480 with 1 Axes>"
      ]
     },
     "metadata": {},
     "output_type": "display_data"
    }
   ],
   "source": [
    "#DEMO\n",
    "plt.hist(higher_gdp['cases_norm'], label='GDP>= Median')\n",
    "plt.hist(lower_gdp['cases_norm'], label='GDP< Median')\n",
    "plt.legend()\n",
    "plt.xlabel('cases per thousand residents')\n",
    "plt.ylabel('count')\n"
   ]
  },
  {
   "cell_type": "markdown",
   "metadata": {
    "user_expressions": []
   },
   "source": [
    "Let's compare using histograms:"
   ]
  },
  {
   "cell_type": "code",
   "execution_count": 9,
   "metadata": {},
   "outputs": [
    {
     "data": {
      "text/plain": [
       "Text(0, 0.5, 'count')"
      ]
     },
     "execution_count": 9,
     "metadata": {},
     "output_type": "execute_result"
    },
    {
     "data": {
      "image/png": "[encoded data removed]",
      "text/plain": [
       "<Figure size 640x480 with 1 Axes>"
      ]
     },
     "metadata": {},
     "output_type": "display_data"
    }
   ],
   "source": [
    "#DEMO\n",
    "plt.hist(higher_gdp['cases_norm'], alpha=0.5, label='GDP>= Median')\n",
    "plt.hist(lower_gdp['cases_norm'], alpha=0.5, label='GDP< Median')\n",
    "plt.legend()\n",
    "plt.xlabel('cases per thousand residents')\n",
    "plt.ylabel('count')\n",
    "\n"
   ]
  },
  {
   "cell_type": "markdown",
   "metadata": {
    "user_expressions": []
   },
   "source": [
    "**DISCUSSION**\n",
    "\n",
    "The histogram shows that states with GDPs per capita over the median have higher case counts in general (for instance, the larger bars in the range 2-5), as well as larger maximum values (above 8).  Unfortunately, the data does not provide any insight into why that might be the case. One reason might be that states with higher GDPs may have larger network effects, where more of the population interacts with a larger number of people. For instance, such states may have more of their population employed in office jobs and more likely to travel for their work. "
   ]
  },
  {
   "cell_type": "markdown",
   "metadata": {
    "user_expressions": []
   },
   "source": [
    "When an effect is observed visually, we usually want to quantify that effect in some way and then test whether any observed difference is \"real\""
   ]
  },
  {
   "cell_type": "markdown",
   "metadata": {
    "user_expressions": []
   },
   "source": [
    "# Null Hypothesis Testing with Real Data"
   ]
  },
  {
   "cell_type": "code",
   "execution_count": 10,
   "metadata": {
    "tags": [
     "remove-cell"
    ]
   },
   "outputs": [],
   "source": [
    "# Magic cell to make MPL save to both png and pdf\n",
    "from matplotlib_inline.backend_inline import set_matplotlib_formats\n",
    "set_matplotlib_formats('png', 'pdf')"
   ]
  },
  {
   "cell_type": "markdown",
   "metadata": {
    "user_expressions": []
   },
   "source": [
    "When dealing with data from different groups, we will generally observe differences. For instance, we may measure the means or medians of the data sets, and we will usually find that these summary statistics differ between the groups.  At this point, we wish to understand whether the observed difference is \"significant\": is this difference likely to be a property of the underlying groups, or is it just caused by random variations in the data?\n",
    "\n",
    "\n",
    "* INTUITION: consider again coin flip, if you flip it twice and observed 'H', 'H', how confident you are in rejecting the null hypothesis (it is a fair coin)?"
   ]
  },
  {
   "cell_type": "markdown",
   "metadata": {
    "tags": [],
    "user_expressions": []
   },
   "source": [
    "The **number of samples of random phenomena** has a significant impact on how **accurately we can estimate those phenomena**. When it comes to real data, the problem is amplified because we do not know the ground-truth characterization of the random phenomena producing the data. \n",
    "\n"
   ]
  },
  {
   "cell_type": "markdown",
   "metadata": {
    "tags": [],
    "user_expressions": []
   },
   "source": [
    "## Small Data Example Using Covid Rates\n",
    "\n",
    "\n",
    "Let's start by restricting our analysis to a small subset of our data to see how effects observed with small data may be caused simply by random sampling. By restricting our data, we can show examples of the technique that we will be using, and the examples will be small enough to understand easily.\n",
    "\n",
    "Start by loading the data and calculating the COVID cases per 1000 residents and GDP per 1000 residents:"
   ]
  },
  {
   "cell_type": "markdown",
   "metadata": {
    "user_expressions": []
   },
   "source": [
    "Now consider the normalized COVID case rates from the first six states and partition them into two sets using alphabetical order. Since Arizona is the third state alphabetically, we can get the first three as follows:"
   ]
  },
  {
   "cell_type": "code",
   "execution_count": 11,
   "metadata": {
    "tags": []
   },
   "outputs": [
    {
     "data": {
      "text/html": [
       "<div>\n",
       "<style scoped>\n",
       "    .dataframe tbody tr th:only-of-type {\n",
       "        vertical-align: middle;\n",
       "    }\n",
       "\n",
       "    .dataframe tbody tr th {\n",
       "        vertical-align: top;\n",
       "    }\n",
       "\n",
       "    .dataframe thead th {\n",
       "        text-align: right;\n",
       "    }\n",
       "</style>\n",
       "<table border=\"1\" class=\"dataframe\">\n",
       "  <thead>\n",
       "    <tr style=\"text-align: right;\">\n",
       "      <th></th>\n",
       "      <th>cases</th>\n",
       "      <th>population</th>\n",
       "      <th>gdp</th>\n",
       "      <th>urban</th>\n",
       "      <th>cases_norm</th>\n",
       "      <th>gdp_norm</th>\n",
       "    </tr>\n",
       "    <tr>\n",
       "      <th>state</th>\n",
       "      <th></th>\n",
       "      <th></th>\n",
       "      <th></th>\n",
       "      <th></th>\n",
       "      <th></th>\n",
       "      <th></th>\n",
       "    </tr>\n",
       "  </thead>\n",
       "  <tbody>\n",
       "    <tr>\n",
       "      <th>Alabama</th>\n",
       "      <td>7068</td>\n",
       "      <td>4903185</td>\n",
       "      <td>230750.1</td>\n",
       "      <td>59.04</td>\n",
       "      <td>1.441512</td>\n",
       "      <td>47.061267</td>\n",
       "    </tr>\n",
       "    <tr>\n",
       "      <th>Alaska</th>\n",
       "      <td>353</td>\n",
       "      <td>731545</td>\n",
       "      <td>54674.7</td>\n",
       "      <td>66.02</td>\n",
       "      <td>0.482540</td>\n",
       "      <td>74.738670</td>\n",
       "    </tr>\n",
       "    <tr>\n",
       "      <th>Arizona</th>\n",
       "      <td>7648</td>\n",
       "      <td>7278717</td>\n",
       "      <td>379018.8</td>\n",
       "      <td>89.81</td>\n",
       "      <td>1.050735</td>\n",
       "      <td>52.072199</td>\n",
       "    </tr>\n",
       "  </tbody>\n",
       "</table>\n",
       "</div>"
      ],
      "text/plain": [
       "         cases  population       gdp  urban  cases_norm   gdp_norm\n",
       "state                                                             \n",
       "Alabama   7068     4903185  230750.1  59.04    1.441512  47.061267\n",
       "Alaska     353      731545   54674.7  66.02    0.482540  74.738670\n",
       "Arizona   7648     7278717  379018.8  89.81    1.050735  52.072199"
      ]
     },
     "execution_count": 11,
     "metadata": {},
     "output_type": "execute_result"
    }
   ],
   "source": [
    "first3=df.loc[:'Arizona']\n",
    "first3"
   ]
  },
  {
   "cell_type": "markdown",
   "metadata": {
    "user_expressions": []
   },
   "source": [
    "Similarly, we can get the next three using the following:"
   ]
  },
  {
   "cell_type": "code",
   "execution_count": 12,
   "metadata": {
    "tags": []
   },
   "outputs": [
    {
     "data": {
      "text/html": [
       "<div>\n",
       "<style scoped>\n",
       "    .dataframe tbody tr th:only-of-type {\n",
       "        vertical-align: middle;\n",
       "    }\n",
       "\n",
       "    .dataframe tbody tr th {\n",
       "        vertical-align: top;\n",
       "    }\n",
       "\n",
       "    .dataframe thead th {\n",
       "        text-align: right;\n",
       "    }\n",
       "</style>\n",
       "<table border=\"1\" class=\"dataframe\">\n",
       "  <thead>\n",
       "    <tr style=\"text-align: right;\">\n",
       "      <th></th>\n",
       "      <th>cases</th>\n",
       "      <th>population</th>\n",
       "      <th>gdp</th>\n",
       "      <th>urban</th>\n",
       "      <th>cases_norm</th>\n",
       "      <th>gdp_norm</th>\n",
       "    </tr>\n",
       "    <tr>\n",
       "      <th>state</th>\n",
       "      <th></th>\n",
       "      <th></th>\n",
       "      <th></th>\n",
       "      <th></th>\n",
       "      <th></th>\n",
       "      <th></th>\n",
       "    </tr>\n",
       "  </thead>\n",
       "  <tbody>\n",
       "    <tr>\n",
       "      <th>Arkansas</th>\n",
       "      <td>3281</td>\n",
       "      <td>3017804</td>\n",
       "      <td>132596.4</td>\n",
       "      <td>56.16</td>\n",
       "      <td>1.087214</td>\n",
       "      <td>43.938042</td>\n",
       "    </tr>\n",
       "    <tr>\n",
       "      <th>California</th>\n",
       "      <td>50470</td>\n",
       "      <td>39512223</td>\n",
       "      <td>3205000.1</td>\n",
       "      <td>94.95</td>\n",
       "      <td>1.277326</td>\n",
       "      <td>81.114143</td>\n",
       "    </tr>\n",
       "    <tr>\n",
       "      <th>Colorado</th>\n",
       "      <td>15207</td>\n",
       "      <td>5758736</td>\n",
       "      <td>400863.4</td>\n",
       "      <td>86.15</td>\n",
       "      <td>2.640684</td>\n",
       "      <td>69.609616</td>\n",
       "    </tr>\n",
       "  </tbody>\n",
       "</table>\n",
       "</div>"
      ],
      "text/plain": [
       "            cases  population        gdp  urban  cases_norm   gdp_norm\n",
       "state                                                                 \n",
       "Arkansas     3281     3017804   132596.4  56.16    1.087214  43.938042\n",
       "California  50470    39512223  3205000.1  94.95    1.277326  81.114143\n",
       "Colorado    15207     5758736   400863.4  86.15    2.640684  69.609616"
      ]
     },
     "execution_count": 12,
     "metadata": {},
     "output_type": "execute_result"
    }
   ],
   "source": [
    "second3 = df.loc['Arkansas':'Colorado']\n",
    "second3"
   ]
  },
  {
   "cell_type": "markdown",
   "metadata": {
    "user_expressions": []
   },
   "source": [
    "Because the data is so small, histograms do not make sense.\n",
    "\n",
    "Instead, we directly turn to using summary statistics. \n",
    "\n",
    "Let's calculate the means for these two groups:"
   ]
  },
  {
   "cell_type": "code",
   "execution_count": 13,
   "metadata": {},
   "outputs": [
    {
     "data": {
      "text/plain": [
       "0.9915956672540028"
      ]
     },
     "execution_count": 13,
     "metadata": {},
     "output_type": "execute_result"
    }
   ],
   "source": [
    "first3['cases_norm'].mean()"
   ]
  },
  {
   "cell_type": "code",
   "execution_count": 14,
   "metadata": {},
   "outputs": [
    {
     "data": {
      "text/plain": [
       "1.6684081069437913"
      ]
     },
     "execution_count": 14,
     "metadata": {},
     "output_type": "execute_result"
    }
   ],
   "source": [
    "second3['cases_norm'].mean()"
   ]
  },
  {
   "cell_type": "markdown",
   "metadata": {
    "user_expressions": []
   },
   "source": [
    "**Observation**: The mean COVID case rate for states in `first3` is much smaller than for states in `second3`.\n",
    "\n",
    "**How to test whether this differnece could be caused by random variations in the data.**"
   ]
  },
  {
   "cell_type": "markdown",
   "metadata": {
    "user_expressions": []
   },
   "source": [
    "**First step:** reduce the observed data to a single statistic, called the *test statistic*:"
   ]
  },
  {
   "cell_type": "markdown",
   "metadata": {
    "user_expressions": []
   },
   "source": [
    "**test statistic**\n",
    ">  A single numerical value that can be used in a statistical test."
   ]
  },
  {
   "cell_type": "code",
   "execution_count": 15,
   "metadata": {},
   "outputs": [
    {
     "data": {
      "text/plain": [
       "0.6768124396897884"
      ]
     },
     "execution_count": 15,
     "metadata": {},
     "output_type": "execute_result"
    }
   ],
   "source": [
    "#DEMO\n",
    "diff = second3['cases_norm'].mean() - first3['cases_norm'].mean()\n",
    "diff"
   ]
  },
  {
   "cell_type": "markdown",
   "metadata": {
    "user_expressions": []
   },
   "source": [
    "**This is a ______ difference!**\n",
    "\n",
    "Possible hypotheses (explanations):\n",
    "1. States that come later alphabetically might have higher COVID rates. (Hard to justify?)\n",
    "2. The states in `second3` might differ from the states in group `first3` in some significant way. (Maybe but... why?)\n",
    "3. The differences could be caused by random sampling. That is, the COVID rates all come from the same underlying random phenomena, but because of randomness, some states end up with higher rates in the observed data than others. In `first3` and `second3`, it just happened by randomness that `second3` ended up with more states with higher COVID rates, and `first3` ended up with more states with lower rates.\n",
    "\n",
    "In statistics, we want to create hypotheses that can be *tested*, which means that we can assess the likelihood that the hypothesis is true or false.  In this case, we use the term *statistical hypothesis*:\n"
   ]
  },
  {
   "cell_type": "markdown",
   "metadata": {
    "tags": []
   },
   "source": [
    "<div class=\"alert alert-info\">\n",
    "    <b>Statistical hypothesis</b>\n",
    "    \n",
    "**Statistical hypothesis** is an explanation for phenomena observed in a data set that can be formally tested using the data.\n",
    "</div>"
   ]
  },
  {
   "cell_type": "markdown",
   "metadata": {
    "user_expressions": []
   },
   "source": [
    "Hypothesis 3 is a very common type of hypothesis when working with two groups of data that have different values for some summary statistic of interest. This type of hypothesis is called the *null hypothesis*:\n",
    "\n",
    "\n",
    "**Null hypothesis (for multiple groups)**\n",
    ">   The *null hypothesis* is that there is no real difference between the two data sets, and any differences are just based on random sampling from the underlying population.\n",
    "\n",
    "\n",
    "Usually denoted by $H_0$\n",
    "\n",
    "*Intuitively, the zero can be read as implying zero difference between the populations (in the feature being compared).*"
   ]
  },
  {
   "cell_type": "markdown",
   "metadata": {
    "user_expressions": []
   },
   "source": [
    "**Alternate hypothesis ($H_a$)**\n",
    ">  the feature being measured actually comes from random distributions that differ by group."
   ]
  },
  {
   "cell_type": "markdown",
   "metadata": {
    "user_expressions": []
   },
   "source": [
    "We will conduct a form of *binary hypothesis test*:\n",
    "\n",
    "**Binary hypothesis test**\n",
    ">   A binary hypothesis test is a statistical test that decides between two competing statistical hypotheses."
   ]
  },
  {
   "cell_type": "markdown",
   "metadata": {
    "user_expressions": []
   },
   "source": [
    "Usually, $H_a$ cannot be tested directly because we do not know ahead of time *how* the underlying phenomena differ. \n",
    "\n",
    "Instead, we conduct tests by assuming $H_0$ is true, called a *null hypothesis test*: "
   ]
  },
  {
   "cell_type": "markdown",
   "metadata": {
    "user_expressions": []
   },
   "source": [
    "**Null hypothesis significance test (NHST)**\n",
    ">   A type of binary hypothesis  test that estimates the probability of observing such a large value of the  statistic under the condition that some null hypothesis, $H_0$, is true."
   ]
  },
  {
   "cell_type": "markdown",
   "metadata": {
    "tags": [],
    "user_expressions": []
   },
   "source": [
    "## Two broad approaches to NHSTs:\n",
    "\n",
    "**Model-based methods**\n",
    ">   The data is assumed to come from some known statistical distribution; often allows the use of analytical methods.\n",
    "\n",
    "**Model-free methods**\n",
    ">   No assumption is made about the data fitting to some statistical model; analytical  methods are usually not possible. \n",
    "\n",
    "In model-free methods, techniques must be applied to the data itself to answer questions about the data. "
   ]
  },
  {
   "cell_type": "markdown",
   "metadata": {
    "user_expressions": []
   },
   "source": [
    "We want to draw data from the distribution of the data under $H_0$, but we **don't have a model**. Instead, we use \n",
    "*resampling* to approximate drawing from the distribution of the data under $H_0$:\n",
    "\n",
    "**resampling**\n",
    ">   Resampling is a type of statistical simulation in which new samples are repeatedly drawn from the existing data for each of the groups under consideration"
   ]
  },
  {
   "cell_type": "markdown",
   "metadata": {
    "user_expressions": []
   },
   "source": [
    "Our $H_0$:  \n",
    "* The covid infection rate does not increase with the GDP.\n",
    "* the data in the two groups (higher GDP states, lower GDP states) come from the **same underlying random experiment**\n",
    "\n",
    "? What is the random experiments? \n",
    "\n",
    "the covid infection rate: (given average covid norm is 5/1000, a randomly selected person is likely to have had covid with 0.005 probability. ---We don't have the information about the model about the random experiment)\n",
    "\n",
    "\n",
    "We will _______ the data and draw samples:"
   ]
  },
  {
   "cell_type": "markdown",
   "metadata": {},
   "source": [
    "<div class=\"alert alert-info\">\n",
    "    <b>Pooling</b>\n",
    "    \n",
    "**Pooling** describes the practice of gathering together small sets of data that are assumed to have been *drawn* from the same underlying population and using the combined larger set (the *pool*) to obtain a more precise estimate of that population.\n",
    "</div>"
   ]
  },
  {
   "cell_type": "code",
   "execution_count": 16,
   "metadata": {},
   "outputs": [
    {
     "data": {
      "text/plain": [
       "array([ 1.441512  ,  1.05073463,  1.08721441,  1.56827509,  2.39521398,\n",
       "        1.1281067 ,  2.68841522,  1.05379243,  6.03253231,  0.81460365,\n",
       "        4.14024152,  2.28987191,  1.23227515,  0.4229129 ,  1.64050133,\n",
       "        1.62674209,  1.00180357,  1.54220599,  0.91433574,  8.13792465,\n",
       "        1.18379075,  1.53839981,  1.38784498,  0.62829667,  1.19760911,\n",
       "        0.48254038,  1.27732626,  2.64068365,  7.7693605 ,  4.86154756,\n",
       "        0.43012363,  4.17603752,  2.26460903,  1.47769859,  3.61001575,\n",
       "        9.02502328,  0.91069772,  2.23944483,  1.57827656, 13.35841724,\n",
       "       15.91975886,  1.40014854,  0.59510586,  3.76691466,  2.76942867,\n",
       "        1.00262517,  1.45728671,  1.85647762,  1.94539831,  0.96585971])"
      ]
     },
     "execution_count": 16,
     "metadata": {},
     "output_type": "execute_result"
    }
   ],
   "source": [
    "#let's collect the data from both higher gdp and lower gdp states.\n",
    "# we can understand the data is the outcome of the same random experiment. (Null hypothesis)\n",
    "import numpy as np\n",
    "pooled = np.hstack((lower_gdp['cases_norm'], higher_gdp['cases_norm']))\n",
    "pooled"
   ]
  },
  {
   "cell_type": "code",
   "execution_count": 17,
   "metadata": {},
   "outputs": [
    {
     "data": {
      "text/plain": [
       "25"
      ]
     },
     "execution_count": 17,
     "metadata": {},
     "output_type": "execute_result"
    }
   ],
   "source": [
    "len(lower_gdp['cases_norm'])"
   ]
  },
  {
   "cell_type": "code",
   "execution_count": 18,
   "metadata": {},
   "outputs": [
    {
     "data": {
      "text/plain": [
       "25"
      ]
     },
     "execution_count": 18,
     "metadata": {},
     "output_type": "execute_result"
    }
   ],
   "source": [
    "len(lower_gdp['cases_norm'])"
   ]
  },
  {
   "cell_type": "code",
   "execution_count": 19,
   "metadata": {},
   "outputs": [
    {
     "data": {
      "text/plain": [
       "-1.5854260007930685"
      ]
     },
     "execution_count": 19,
     "metadata": {},
     "output_type": "execute_result"
    }
   ],
   "source": [
    "# test statistics: the observed difference between two samples.\n",
    "observed_diff= lower_gdp['cases_norm'].mean() - higher_gdp['cases_norm'].mean()\n",
    "observed_diff"
   ]
  },
  {
   "cell_type": "markdown",
   "metadata": {
    "user_expressions": []
   },
   "source": [
    "For numerical data, we leverage the NumPy.random submodule to draw samples, which we will import as `npr`:"
   ]
  },
  {
   "cell_type": "code",
   "execution_count": 20,
   "metadata": {},
   "outputs": [
    {
     "data": {
      "text/plain": [
       "array([3.76691466, 1.56827509, 0.62829667, 0.96585971, 0.48254038,\n",
       "       1.53839981, 2.68841522, 1.00180357, 1.08721441, 1.45728671,\n",
       "       1.85647762, 1.18379075, 1.19760911, 1.23227515, 3.61001575,\n",
       "       1.441512  , 3.76691466, 1.53839981, 6.03253231, 2.28987191,\n",
       "       0.91433574, 0.96585971, 4.17603752, 1.19760911, 1.18379075])"
      ]
     },
     "execution_count": 20,
     "metadata": {},
     "output_type": "execute_result"
    }
   ],
   "source": [
    "#DEMO\n",
    "import numpy.random as npr\n",
    "npr.choice(pooled, 25) # recall the additional variable allows us to select "
   ]
  },
  {
   "cell_type": "markdown",
   "metadata": {
    "user_expressions": []
   },
   "source": [
    "We can randomly draw data from `pooled` using `npr.choice()`, we draw two sets of 25 samples, and see how likely it has a value greater than the observed difference"
   ]
  },
  {
   "cell_type": "code",
   "execution_count": 21,
   "metadata": {},
   "outputs": [
    {
     "name": "stdout",
     "output_type": "stream",
     "text": [
      "0.646593561149023\n"
     ]
    }
   ],
   "source": [
    "#DEMO\n",
    "#Note that the resulting array has a repeated value, even though there are no repeated values in the variable `pooled`. \n",
    "sample1 = npr.choice(pooled, 25) \n",
    "sample2 = npr.choice(pooled,25)\n",
    "print(sample1.mean()- sample2.mean())"
   ]
  },
  {
   "cell_type": "markdown",
   "metadata": {
    "user_expressions": []
   },
   "source": [
    "There are two ways to sample from data:\n",
    "1. **Sampling with replacement:** Items drawn are placed back into the array from which data is being sampled. Any number of items may be drawn.\n",
    "2. **Sampling without replacement:** Items drawn are removed from the array from which data is being sampled. The maximum number of items that can be drawn is the size of the original array.\n",
    "\n",
    "`npr.choice()` defaults to sampling with replacement but can perform sampling without replacement if passed the keyword argument `replace=False`.\n"
   ]
  },
  {
   "cell_type": "code",
   "execution_count": 25,
   "metadata": {},
   "outputs": [
    {
     "name": "stdout",
     "output_type": "stream",
     "text": [
      "[1, 2, 3, 4, 5, 6]\n"
     ]
    },
    {
     "data": {
      "text/plain": [
       "array([3, 5, 2, 1])"
      ]
     },
     "execution_count": 25,
     "metadata": {},
     "output_type": "execute_result"
    }
   ],
   "source": [
    "#DEMO\n",
    "alist= list(range(1,7))\n",
    "print(alist)\n",
    "npr.choice(alist, 4, replace=False)\n",
    "npr.choice(alist, 4, replace=False)"
   ]
  },
  {
   "cell_type": "markdown",
   "metadata": {
    "user_expressions": []
   },
   "source": [
    "## bootstrap sampling \n",
    "* Sample the data **with replacement**.  \n",
    "* often used to simulate random values of the test statistic under $H_0$"
   ]
  },
  {
   "cell_type": "code",
   "execution_count": 29,
   "metadata": {},
   "outputs": [
    {
     "name": "stdout",
     "output_type": "stream",
     "text": [
      "new group first_sample: [9.02502328 1.19760911 1.56827509 2.64068365 1.47769859 1.18379075\n",
      " 0.91069772 1.23227515 0.4229129  0.91069772 1.05379243 3.76691466\n",
      " 2.64068365 1.08721441 1.00180357 2.28987191 9.02502328 1.40014854\n",
      " 1.62674209 0.59510586 2.68841522 0.43012363 1.40014854 0.91069772\n",
      " 1.27732626]\n",
      "new group second_sample: [ 1.00180357  1.57827656  1.08721441  0.48254038  0.48254038  2.76942867\n",
      "  1.18379075  1.05379243  3.76691466  1.62674209  7.7693605   0.81460365\n",
      "  0.59510586  1.57827656  3.61001575 15.91975886  7.7693605   1.00180357\n",
      "  2.39521398  0.62829667  1.05073463  1.53839981  1.62674209  0.62829667\n",
      "  0.91433574]\n"
     ]
    }
   ],
   "source": [
    "#DEMO -- run a few times\n",
    "first_sample = npr.choice(pooled, len(lower_gdp))\n",
    "second_sample =npr.choice(pooled, len(higher_gdp))\n",
    "print(f'new group first_sample: {first_sample}')\n",
    "print(f'new group second_sample: {second_sample}')"
   ]
  },
  {
   "cell_type": "code",
   "execution_count": 30,
   "metadata": {},
   "outputs": [
    {
     "name": "stdout",
     "output_type": "stream",
     "text": [
      "original value of test statistic: -1.5854260007930685\n"
     ]
    }
   ],
   "source": [
    "# the original value of test statistis.\n",
    "print(f'original value of test statistic: {observed_diff}')\n"
   ]
  },
  {
   "cell_type": "code",
   "execution_count": 31,
   "metadata": {},
   "outputs": [
    {
     "name": "stdout",
     "output_type": "stream",
     "text": [
      "sample value of test statistic:  -0.44438692092203746\n"
     ]
    }
   ],
   "source": [
    "print(f'sample value of test statistic: ',\n",
    "      f'{first_sample.mean() - second_sample.mean()}')"
   ]
  },
  {
   "cell_type": "markdown",
   "metadata": {
    "tags": [],
    "user_expressions": []
   },
   "source": [
    "## Goal of a NHST: \n",
    "* determine whether the observed value of the test statistic could be attributed just to randomness\n",
    "*  use resampling to estimate probability of  seeing such a large test statistic  under $H_0$"
   ]
  },
  {
   "cell_type": "code",
   "execution_count": 43,
   "metadata": {},
   "outputs": [
    {
     "name": "stdout",
     "output_type": "stream",
     "text": [
      "original value of test statistic: -1.5854260007930685\n",
      "sample value of test statistic:  -2.5945182708929657\n"
     ]
    }
   ],
   "source": [
    "#DEMO -- copy from above and add new lines. Run a few times\n",
    "\n",
    "\n",
    "first_sample = npr.choice(pooled, len(lower_gdp))\n",
    "second_sample =npr.choice(pooled, len(higher_gdp))\n",
    "\n",
    "\n",
    "print(f'original value of test statistic: {observed_diff}')\n",
    "print(f'sample value of test statistic: ',\n",
    "      f'{second_sample.mean() - first_sample.mean()}')"
   ]
  },
  {
   "cell_type": "markdown",
   "metadata": {
    "user_expressions": []
   },
   "source": [
    "Note that the sample test statistic can be either positive or negative\n",
    "\n",
    "Should we consider the signed value or magnitude? It depends on the original hypothesis, and we will discuss this more later.\n",
    "\n",
    "For now, let's consider only the *magnitude* of the sample test statistic"
   ]
  },
  {
   "cell_type": "markdown",
   "metadata": {
    "user_expressions": []
   },
   "source": [
    "\n",
    "The probability of seeing such a large value of the test statistic under $H_0$ is called the $\\mathbf{p}$**-value**\n",
    "\n",
    "For now, we will say that the difference is *statistically significant* if the observed $p$-value is smaller than a threshold\n",
    "\n",
    "**IMPORTANT** Need to declare ahead of time:\n",
    "* Exactly what is being tested\n",
    "* Criterion for statistical significance\n",
    "\n",
    "The significance threshold (for rejecting $H_0$) determines the max. prob. of rejecting the null hypothesis when it is actually true"
   ]
  },
  {
   "cell_type": "markdown",
   "metadata": {
    "tags": [],
    "user_expressions": []
   },
   "source": [
    "## Resampling Simulation for Estimating $p$-value\n"
   ]
  },
  {
   "cell_type": "code",
   "execution_count": 48,
   "metadata": {},
   "outputs": [
    {
     "name": "stdout",
     "output_type": "stream",
     "text": [
      "The magnitude of observed difference is 1.5854260007930685\n",
      "Prob. of seeing a result this extreme =~ 0.0674\n"
     ]
    }
   ],
   "source": [
    "#DEMO\n",
    "# These are common to most simulations:\n",
    "# 1) Set up the number of iterations (no. of samples from the pool)\n",
    "# 2) Initialize our counter to zero\n",
    "num_sims = 10_000\n",
    "count = 0\n",
    "\n",
    "first_len = len(lower_gdp)\n",
    "second_len = len(higher_gdp)\n",
    "\n",
    "# Put these outside the loop to save execution time \n",
    "# since they don't change.\n",
    "# Even though we know these, it is good to get in the habit of \n",
    "# setting them dynamically from the data\n",
    "\n",
    "\n",
    "diff = abs(lower_gdp['cases_norm'].mean() - higher_gdp['cases_norm'].mean())\n",
    "print('The magnitude of observed difference is', diff)\n",
    "for sim in range(num_sims):\n",
    "    # Bootstrap sampling\n",
    "    first_sample = npr.choice(pooled, first_len)\n",
    "    second_sample = npr.choice(pooled, second_len)\n",
    "    \n",
    "    # Calculate the test statistis\n",
    "    newdiff = abs(first_sample.mean() - second_sample.mean())\n",
    "    # Update the counter if observed difference as large as original\n",
    "    if (newdiff>= diff):\n",
    "        count += 1\n",
    "\n",
    "print(f'Prob. of seeing a result this extreme =~ {count / num_sims}')"
   ]
  },
  {
   "cell_type": "markdown",
   "metadata": {
    "user_expressions": []
   },
   "source": [
    "**Draw conclusions**\n",
    "\n",
    "Since this $p$-value is   larger than our threshold of 5% (i.e., 0.05), we **fail to reject the null hypothesis**.  \n",
    "\n",
    "**NOTE** This does not mean that there is no difference among these two groups. There could be a difference, but **the data is not sufficient to be sure that they come from different distributions.**"
   ]
  },
  {
   "cell_type": "markdown",
   "metadata": {
    "jp-MarkdownHeadingCollapsed": true,
    "tags": [],
    "user_expressions": []
   },
   "source": [
    "### Additional Exercise: Does covid infection rate increases with states with higher urban index?\n"
   ]
  },
  {
   "cell_type": "markdown",
   "metadata": {
    "tags": [],
    "user_expressions": []
   },
   "source": [
    "### Partitioning Based on Urban Index\n"
   ]
  },
  {
   "cell_type": "code",
   "execution_count": 46,
   "metadata": {},
   "outputs": [
    {
     "data": {
      "text/plain": [
       "(25, 25)"
      ]
     },
     "execution_count": 46,
     "metadata": {},
     "output_type": "execute_result"
    }
   ],
   "source": [
    "m_urban = df['urban'].median()\n",
    "higher_urban = df.query('urban>@m_urban')\n",
    "lower_urban = df.query('urban <= @m_urban')\n",
    "len(higher_urban), len(lower_urban)"
   ]
  },
  {
   "cell_type": "markdown",
   "metadata": {
    "user_expressions": []
   },
   "source": [
    "Now we use that median to partition the data and plot the histograms:"
   ]
  },
  {
   "cell_type": "code",
   "execution_count": 47,
   "metadata": {},
   "outputs": [
    {
     "data": {
      "text/plain": [
       "Text(0, 0.5, 'count')"
      ]
     },
     "execution_count": 47,
     "metadata": {},
     "output_type": "execute_result"
    },
    {
     "data": {
      "application/pdf": "[encoded data removed]",
      "image/png": "[encoded data removed]",
      "text/plain": [
       "<Figure size 640x480 with 1 Axes>"
      ]
     },
     "metadata": {},
     "output_type": "display_data"
    }
   ],
   "source": [
    "plt.hist(higher_urban['cases_norm'], alpha=0.5, label='urban index>= Median')\n",
    "plt.hist(lower_urban['cases_norm'], alpha=0.5, label='urban index< Median')\n",
    "plt.legend()\n",
    "plt.xlabel('cases per thousand residents')\n",
    "plt.ylabel('count')\n"
   ]
  },
  {
   "cell_type": "code",
   "execution_count": null,
   "metadata": {},
   "outputs": [],
   "source": []
  },
  {
   "cell_type": "markdown",
   "metadata": {
    "user_expressions": []
   },
   "source": [
    "As with normalized GDP, a substantial difference in the distribution of the COVID case rates is seen for states that are more urban versus less urban. The average normalized case rates for these partitions are:"
   ]
  },
  {
   "cell_type": "code",
   "execution_count": 48,
   "metadata": {},
   "outputs": [
    {
     "data": {
      "text/plain": [
       "3.890874990432076"
      ]
     },
     "execution_count": 48,
     "metadata": {},
     "output_type": "execute_result"
    }
   ],
   "source": [
    "higher_urban['cases_norm'].mean()"
   ]
  },
  {
   "cell_type": "code",
   "execution_count": 49,
   "metadata": {},
   "outputs": [
    {
     "data": {
      "text/plain": [
       "1.5461729098384682"
      ]
     },
     "execution_count": 49,
     "metadata": {},
     "output_type": "execute_result"
    }
   ],
   "source": [
    "lower_urban['cases_norm'].mean()"
   ]
  },
  {
   "cell_type": "code",
   "execution_count": 63,
   "metadata": {},
   "outputs": [
    {
     "name": "stdout",
     "output_type": "stream",
     "text": [
      "2.344702080593608\n"
     ]
    },
    {
     "data": {
      "text/plain": [
       "state\n",
       "Alabama            1.441512\n",
       "Alaska             0.482540\n",
       "Arizona            1.050735\n",
       "Arkansas           1.087214\n",
       "California         1.277326\n",
       "Colorado           2.640684\n",
       "Connecticut        7.769361\n",
       "Delaware           4.861548\n",
       "Florida            1.568275\n",
       "Georgia            2.395214\n",
       "Hawaii             0.430124\n",
       "Idaho              1.128107\n",
       "Illinois           4.176038\n",
       "Indiana            2.688415\n",
       "Iowa               2.264609\n",
       "Kansas             1.477699\n",
       "Kentucky           1.053792\n",
       "Louisiana          6.032532\n",
       "Maine              0.814604\n",
       "Maryland           3.610016\n",
       "Massachusetts      9.025023\n",
       "Michigan           4.140242\n",
       "Minnesota          0.910698\n",
       "Mississippi        2.289872\n",
       "Missouri           1.232275\n",
       "Montana            0.422913\n",
       "Nebraska           2.239445\n",
       "Nevada             1.640501\n",
       "New Hampshire      1.578277\n",
       "New Jersey        13.358417\n",
       "New Mexico         1.626742\n",
       "New York          15.919759\n",
       "North Carolina     1.001804\n",
       "North Dakota       1.400149\n",
       "Ohio               1.542206\n",
       "Oklahoma           0.914336\n",
       "Oregon             0.595106\n",
       "Pennsylvania       3.766915\n",
       "Rhode Island       8.137925\n",
       "South Carolina     1.183791\n",
       "South Dakota       2.769429\n",
       "Tennessee          1.538400\n",
       "Texas              1.002625\n",
       "Utah               1.457287\n",
       "Vermont            1.387845\n",
       "Virginia           1.856712\n",
       "Washington         1.945398\n",
       "West Virginia      0.628297\n",
       "Wisconsin          1.197609\n",
       "Wyoming            0.965860\n",
       "Name: cases_norm, dtype: float64"
      ]
     },
     "execution_count": 63,
     "metadata": {},
     "output_type": "execute_result"
    }
   ],
   "source": [
    "#DEMO\n",
    "diff_urban = higher_urban['cases_norm'].mean() - lower_urban['cases_norm'].mean()\n",
    "print(diff_urban)\n",
    "\n",
    "pooled_cases = df['cases_norm']\n",
    "pooled_cases\n"
   ]
  },
  {
   "cell_type": "markdown",
   "metadata": {
    "user_expressions": []
   },
   "source": [
    "We will use the difference in sample means as the test statistic for a NHST, so one of our first steps is to calculate the value of this test statistic:"
   ]
  },
  {
   "cell_type": "markdown",
   "metadata": {
    "user_expressions": []
   },
   "source": [
    "For this case, the pooled data is simply all of the normalized COVID data:"
   ]
  },
  {
   "cell_type": "markdown",
   "metadata": {
    "user_expressions": []
   },
   "source": [
    "Copy the simulation from the previous section and modify it to draw data to represent new `higher_urban` and `lower_urban` groups:"
   ]
  },
  {
   "cell_type": "code",
   "execution_count": 64,
   "metadata": {},
   "outputs": [
    {
     "name": "stdout",
     "output_type": "stream",
     "text": [
      "the prob. of seeing a difference this big is 0.0096\n"
     ]
    }
   ],
   "source": [
    "num_sims =10000\n",
    "count =0 \n",
    "\n",
    "higher_len= len(higher_urban)\n",
    "lower_len = len(lower_urban)\n",
    "for sim in range(num_sims):\n",
    "    resample1 = npr.choice(pooled_cases, higher_len)\n",
    "    resample2 = npr.choice(pooled_cases, lower_len)\n",
    "    newdiff = np.abs(resample1.mean() - resample2.mean())\n",
    "    \n",
    "    # see if we observe difference as big as the original\n",
    "    if newdiff >= diff_urban:\n",
    "        count += 1\n",
    "print(\"the prob. of seeing a difference this big is\", count/num_sims)"
   ]
  },
  {
   "cell_type": "markdown",
   "metadata": {},
   "source": [
    "<!-- **<font color=orange>Scenario B:</font>** Suppose that we always decide $A_1$. For $P(A_0) = \\frac{1}{10}$, $P(A_1)=\\frac{9}{10}$, we have:\n",
    "\n",
    "\\begin{align*}\n",
    "P(A_0|B_0) &\\underset{A_1}{\\overset{A_0}{\\gtrless}} P(A_1|B_0)\\\\\n",
    "\\frac{P(B_0|A_0)P(A_0)}{P(B_0)} &\\underset{A_1}{\\overset{A_0}{\\gtrless}} \\frac{P(B_0|A_1)P(A_1)}{P(B_0)} \\\\\n",
    "\\frac{\\frac{7}{8}\\times\\frac{1}{10}}{\\frac{19}{80}} &\\underset{A_1}{\\overset{A_0}{\\gtrless}} \\frac{\\frac{1}{6}\\times\\frac{9}{10}}{\\frac{19}{80}}\\\\\n",
    "\\frac{7}{19} &\\underset{A_1}{\\overset{A_0}{\\gtrless}} \\frac{12}{19} \\Rightarrow \\text{ Decide }A_1\n",
    "\\end{align*}\n",
    "\n",
    "So, when $B_0$ is received, MAP decision rule is to decide $A_1$ with probability $P(A_1|B_0)=\\frac{12}{19}$.\n",
    "\n",
    "Similarly, when $B_1$ is received, MAP decision rule is to decide $A_1$ with probability $P(A_1|B_1)=\\frac{60}{61}$.\n",
    "\n",
    "When using the MAP decision rule, we will always decide $A_1$. This does not mean we will not make an error. We will make the correct decision for when receiving $B_0$ with $\\frac{12}{19}$ probability. But we will be in error with $1-\\frac{12}{19}$ probability for when we receive $B_0$. We apply the same reasoning for $B_1$.\n",
    "\n",
    "$$P(E) = P(E|B_0)P(B_0) + P(E|B_1)P(B_1)$$\n",
    "\n",
    "where\n",
    "\n",
    "$$P(B_0) = P(B_0|A_0)P(A_0) + P(B_0|A_1)P(A_1) = \\frac{7}{8}\\times\\frac{1}{10} + \\frac{1}{6}\\times\\frac{9}{10} = \\frac{19}{80}$$\n",
    "and\n",
    "$$P(B_1) = P(B_1|A_0)P(A_0) + P(B_1|A_1)P(A_1) = \\frac{1}{8}\\times\\frac{1}{10} + \\frac{5}{6}\\times\\frac{9}{10} = 1- P(B_0) = \\frac{61}{80}$$\n",
    "\n",
    "For this decision rule, we have that: \n",
    "\n",
    "$$P(E) = P(E|B_0)P(B_0) + P(E|B_1)P(B_1) = \\left(1-\\frac{12}{19}\\right)\\times\\frac{19}{80} + \\left(1-\\frac{60}{61}\\right)\\times\\frac{61}{80} = 0.1$$ -->"
   ]
  },
  {
   "cell_type": "markdown",
   "metadata": {},
   "source": [
    "<!-- We changed the prior probability for both transmitters. In scenario B we are assuming that the probability that the Tx $A_0$ was used at 10\\% chance. Whereas in scenario A, we are assuming that the probability that Tx $A_0$ was used at 40\\%.  -->"
   ]
  },
  {
   "cell_type": "markdown",
   "metadata": {},
   "source": [
    "___"
   ]
  }
 ],
 "metadata": {
  "kernelspec": {
   "display_name": "Python 3 (ipykernel)",
   "language": "python",
   "name": "python3"
  },
  "language_info": {
   "codemirror_mode": {
    "name": "ipython",
    "version": 3
   },
   "file_extension": ".py",
   "mimetype": "text/x-python",
   "name": "python",
   "nbconvert_exporter": "python",
   "pygments_lexer": "ipython3",
   "version": "3.9.13"
  },
  "latex_envs": {
   "LaTeX_envs_menu_present": true,
   "autoclose": false,
   "autocomplete": true,
   "bibliofile": "biblio.bib",
   "cite_by": "apalike",
   "current_citInitial": 1,
   "eqLabelWithNumbers": true,
   "eqNumInitial": 1,
   "hotkeys": {
    "equation": "Ctrl-E",
    "itemize": "Ctrl-I"
   },
   "labels_anchors": false,
   "latex_user_defs": false,
   "report_style_numbering": false,
   "user_envs_cfg": false
  },
  "varInspector": {
   "cols": {
    "lenName": 16,
    "lenType": 16,
    "lenVar": 40
   },
   "kernels_config": {
    "python": {
     "delete_cmd_postfix": "",
     "delete_cmd_prefix": "del ",
     "library": "var_list.py",
     "varRefreshCmd": "print(var_dic_list())"
    },
    "r": {
     "delete_cmd_postfix": ") ",
     "delete_cmd_prefix": "rm(",
     "library": "var_list.r",
     "varRefreshCmd": "cat(var_dic_list()) "
    }
   },
   "types_to_exclude": [
    "module",
    "function",
    "builtin_function_or_method",
    "instance",
    "_Feature"
   ],
   "window_display": false
  }
 },
 "nbformat": 4,
 "nbformat_minor": 4
}
